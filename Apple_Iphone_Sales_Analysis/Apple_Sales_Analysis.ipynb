{
 "cells": [
  {
   "cell_type": "code",
   "execution_count": 6,
   "id": "18f143b4",
   "metadata": {},
   "outputs": [
    {
     "name": "stdout",
     "output_type": "stream",
     "text": [
      "Requirement already satisfied: pandas in c:\\users\\justi\\onedrive\\desktop\\data_analysis_projects\\.venv\\lib\\site-packages (2.3.2)\n",
      "Requirement already satisfied: numpy>=1.26.0 in c:\\users\\justi\\onedrive\\desktop\\data_analysis_projects\\.venv\\lib\\site-packages (from pandas) (2.3.3)\n",
      "Requirement already satisfied: python-dateutil>=2.8.2 in c:\\users\\justi\\onedrive\\desktop\\data_analysis_projects\\.venv\\lib\\site-packages (from pandas) (2.9.0.post0)\n",
      "Requirement already satisfied: pytz>=2020.1 in c:\\users\\justi\\onedrive\\desktop\\data_analysis_projects\\.venv\\lib\\site-packages (from pandas) (2025.2)\n",
      "Requirement already satisfied: tzdata>=2022.7 in c:\\users\\justi\\onedrive\\desktop\\data_analysis_projects\\.venv\\lib\\site-packages (from pandas) (2025.2)\n",
      "Requirement already satisfied: six>=1.5 in c:\\users\\justi\\onedrive\\desktop\\data_analysis_projects\\.venv\\lib\\site-packages (from python-dateutil>=2.8.2->pandas) (1.17.0)\n",
      "Note: you may need to restart the kernel to use updated packages.\n"
     ]
    }
   ],
   "source": [
    "pip install pandas"
   ]
  },
  {
   "cell_type": "code",
   "execution_count": 7,
   "id": "a556d63c",
   "metadata": {},
   "outputs": [
    {
     "name": "stdout",
     "output_type": "stream",
     "text": [
      "Requirement already satisfied: plotly in c:\\users\\justi\\onedrive\\desktop\\data_analysis_projects\\.venv\\lib\\site-packages (6.3.0)\n",
      "Requirement already satisfied: narwhals>=1.15.1 in c:\\users\\justi\\onedrive\\desktop\\data_analysis_projects\\.venv\\lib\\site-packages (from plotly) (2.5.0)\n",
      "Requirement already satisfied: packaging in c:\\users\\justi\\onedrive\\desktop\\data_analysis_projects\\.venv\\lib\\site-packages (from plotly) (25.0)\n",
      "Note: you may need to restart the kernel to use updated packages.\n"
     ]
    }
   ],
   "source": [
    "pip install plotly"
   ]
  },
  {
   "cell_type": "code",
   "execution_count": 8,
   "id": "d8b94046",
   "metadata": {},
   "outputs": [],
   "source": [
    "import pandas as pd\n",
    "import numpy as np\n",
    "import plotly.express as px\n",
    "import plotly.graph_objects as go"
   ]
  },
  {
   "cell_type": "code",
   "execution_count": 9,
   "id": "7b7a1bb5",
   "metadata": {},
   "outputs": [],
   "source": [
    "df=pd.read_csv(\"apple_products.csv\")"
   ]
  },
  {
   "cell_type": "code",
   "execution_count": 10,
   "id": "24060e95",
   "metadata": {},
   "outputs": [
    {
     "data": {
      "text/html": [
       "<div>\n",
       "<style scoped>\n",
       "    .dataframe tbody tr th:only-of-type {\n",
       "        vertical-align: middle;\n",
       "    }\n",
       "\n",
       "    .dataframe tbody tr th {\n",
       "        vertical-align: top;\n",
       "    }\n",
       "\n",
       "    .dataframe thead th {\n",
       "        text-align: right;\n",
       "    }\n",
       "</style>\n",
       "<table border=\"1\" class=\"dataframe\">\n",
       "  <thead>\n",
       "    <tr style=\"text-align: right;\">\n",
       "      <th></th>\n",
       "      <th>Product Name</th>\n",
       "      <th>Product URL</th>\n",
       "      <th>Brand</th>\n",
       "      <th>Sale Price</th>\n",
       "      <th>Mrp</th>\n",
       "      <th>Discount Percentage</th>\n",
       "      <th>Number Of Ratings</th>\n",
       "      <th>Number Of Reviews</th>\n",
       "      <th>Upc</th>\n",
       "      <th>Star Rating</th>\n",
       "      <th>Ram</th>\n",
       "    </tr>\n",
       "  </thead>\n",
       "  <tbody>\n",
       "    <tr>\n",
       "      <th>0</th>\n",
       "      <td>APPLE iPhone 8 Plus (Gold, 64 GB)</td>\n",
       "      <td>https://www.flipkart.com/apple-iphone-8-plus-g...</td>\n",
       "      <td>Apple</td>\n",
       "      <td>49900</td>\n",
       "      <td>49900</td>\n",
       "      <td>0</td>\n",
       "      <td>3431</td>\n",
       "      <td>356</td>\n",
       "      <td>MOBEXRGV7EHHTGUH</td>\n",
       "      <td>4.6</td>\n",
       "      <td>2 GB</td>\n",
       "    </tr>\n",
       "    <tr>\n",
       "      <th>1</th>\n",
       "      <td>APPLE iPhone 8 Plus (Space Grey, 256 GB)</td>\n",
       "      <td>https://www.flipkart.com/apple-iphone-8-plus-s...</td>\n",
       "      <td>Apple</td>\n",
       "      <td>84900</td>\n",
       "      <td>84900</td>\n",
       "      <td>0</td>\n",
       "      <td>3431</td>\n",
       "      <td>356</td>\n",
       "      <td>MOBEXRGVAC6TJT4F</td>\n",
       "      <td>4.6</td>\n",
       "      <td>2 GB</td>\n",
       "    </tr>\n",
       "    <tr>\n",
       "      <th>2</th>\n",
       "      <td>APPLE iPhone 8 Plus (Silver, 256 GB)</td>\n",
       "      <td>https://www.flipkart.com/apple-iphone-8-plus-s...</td>\n",
       "      <td>Apple</td>\n",
       "      <td>84900</td>\n",
       "      <td>84900</td>\n",
       "      <td>0</td>\n",
       "      <td>3431</td>\n",
       "      <td>356</td>\n",
       "      <td>MOBEXRGVGETABXWZ</td>\n",
       "      <td>4.6</td>\n",
       "      <td>2 GB</td>\n",
       "    </tr>\n",
       "    <tr>\n",
       "      <th>3</th>\n",
       "      <td>APPLE iPhone 8 (Silver, 256 GB)</td>\n",
       "      <td>https://www.flipkart.com/apple-iphone-8-silver...</td>\n",
       "      <td>Apple</td>\n",
       "      <td>77000</td>\n",
       "      <td>77000</td>\n",
       "      <td>0</td>\n",
       "      <td>11202</td>\n",
       "      <td>794</td>\n",
       "      <td>MOBEXRGVMZWUHCBA</td>\n",
       "      <td>4.5</td>\n",
       "      <td>2 GB</td>\n",
       "    </tr>\n",
       "    <tr>\n",
       "      <th>4</th>\n",
       "      <td>APPLE iPhone 8 (Gold, 256 GB)</td>\n",
       "      <td>https://www.flipkart.com/apple-iphone-8-gold-2...</td>\n",
       "      <td>Apple</td>\n",
       "      <td>77000</td>\n",
       "      <td>77000</td>\n",
       "      <td>0</td>\n",
       "      <td>11202</td>\n",
       "      <td>794</td>\n",
       "      <td>MOBEXRGVPK7PFEJZ</td>\n",
       "      <td>4.5</td>\n",
       "      <td>2 GB</td>\n",
       "    </tr>\n",
       "    <tr>\n",
       "      <th>...</th>\n",
       "      <td>...</td>\n",
       "      <td>...</td>\n",
       "      <td>...</td>\n",
       "      <td>...</td>\n",
       "      <td>...</td>\n",
       "      <td>...</td>\n",
       "      <td>...</td>\n",
       "      <td>...</td>\n",
       "      <td>...</td>\n",
       "      <td>...</td>\n",
       "      <td>...</td>\n",
       "    </tr>\n",
       "    <tr>\n",
       "      <th>57</th>\n",
       "      <td>APPLE iPhone SE (Black, 64 GB)</td>\n",
       "      <td>https://www.flipkart.com/apple-iphone-se-black...</td>\n",
       "      <td>Apple</td>\n",
       "      <td>29999</td>\n",
       "      <td>39900</td>\n",
       "      <td>24</td>\n",
       "      <td>95909</td>\n",
       "      <td>8161</td>\n",
       "      <td>MOBFWQ6BR3MK7AUG</td>\n",
       "      <td>4.5</td>\n",
       "      <td>4 GB</td>\n",
       "    </tr>\n",
       "    <tr>\n",
       "      <th>58</th>\n",
       "      <td>APPLE iPhone 11 (Purple, 64 GB)</td>\n",
       "      <td>https://www.flipkart.com/apple-iphone-11-purpl...</td>\n",
       "      <td>Apple</td>\n",
       "      <td>46999</td>\n",
       "      <td>54900</td>\n",
       "      <td>14</td>\n",
       "      <td>43470</td>\n",
       "      <td>3331</td>\n",
       "      <td>MOBFWQ6BTFFJKGKE</td>\n",
       "      <td>4.6</td>\n",
       "      <td>4 GB</td>\n",
       "    </tr>\n",
       "    <tr>\n",
       "      <th>59</th>\n",
       "      <td>APPLE iPhone 11 (White, 64 GB)</td>\n",
       "      <td>https://www.flipkart.com/apple-iphone-11-white...</td>\n",
       "      <td>Apple</td>\n",
       "      <td>46999</td>\n",
       "      <td>54900</td>\n",
       "      <td>14</td>\n",
       "      <td>43470</td>\n",
       "      <td>3331</td>\n",
       "      <td>MOBFWQ6BVWVEH3XE</td>\n",
       "      <td>4.6</td>\n",
       "      <td>4 GB</td>\n",
       "    </tr>\n",
       "    <tr>\n",
       "      <th>60</th>\n",
       "      <td>APPLE iPhone 11 (Black, 64 GB)</td>\n",
       "      <td>https://www.flipkart.com/apple-iphone-11-black...</td>\n",
       "      <td>Apple</td>\n",
       "      <td>46999</td>\n",
       "      <td>54900</td>\n",
       "      <td>14</td>\n",
       "      <td>43470</td>\n",
       "      <td>3331</td>\n",
       "      <td>MOBFWQ6BXGJCEYNY</td>\n",
       "      <td>4.6</td>\n",
       "      <td>4 GB</td>\n",
       "    </tr>\n",
       "    <tr>\n",
       "      <th>61</th>\n",
       "      <td>APPLE iPhone 11 (Red, 64 GB)</td>\n",
       "      <td>https://www.flipkart.com/apple-iphone-11-red-6...</td>\n",
       "      <td>Apple</td>\n",
       "      <td>46999</td>\n",
       "      <td>54900</td>\n",
       "      <td>14</td>\n",
       "      <td>43470</td>\n",
       "      <td>3331</td>\n",
       "      <td>MOBFWQ6BYYV3FCU7</td>\n",
       "      <td>4.6</td>\n",
       "      <td>4 GB</td>\n",
       "    </tr>\n",
       "  </tbody>\n",
       "</table>\n",
       "<p>62 rows × 11 columns</p>\n",
       "</div>"
      ],
      "text/plain": [
       "                                Product Name  \\\n",
       "0          APPLE iPhone 8 Plus (Gold, 64 GB)   \n",
       "1   APPLE iPhone 8 Plus (Space Grey, 256 GB)   \n",
       "2       APPLE iPhone 8 Plus (Silver, 256 GB)   \n",
       "3            APPLE iPhone 8 (Silver, 256 GB)   \n",
       "4              APPLE iPhone 8 (Gold, 256 GB)   \n",
       "..                                       ...   \n",
       "57            APPLE iPhone SE (Black, 64 GB)   \n",
       "58           APPLE iPhone 11 (Purple, 64 GB)   \n",
       "59            APPLE iPhone 11 (White, 64 GB)   \n",
       "60            APPLE iPhone 11 (Black, 64 GB)   \n",
       "61              APPLE iPhone 11 (Red, 64 GB)   \n",
       "\n",
       "                                          Product URL  Brand  Sale Price  \\\n",
       "0   https://www.flipkart.com/apple-iphone-8-plus-g...  Apple       49900   \n",
       "1   https://www.flipkart.com/apple-iphone-8-plus-s...  Apple       84900   \n",
       "2   https://www.flipkart.com/apple-iphone-8-plus-s...  Apple       84900   \n",
       "3   https://www.flipkart.com/apple-iphone-8-silver...  Apple       77000   \n",
       "4   https://www.flipkart.com/apple-iphone-8-gold-2...  Apple       77000   \n",
       "..                                                ...    ...         ...   \n",
       "57  https://www.flipkart.com/apple-iphone-se-black...  Apple       29999   \n",
       "58  https://www.flipkart.com/apple-iphone-11-purpl...  Apple       46999   \n",
       "59  https://www.flipkart.com/apple-iphone-11-white...  Apple       46999   \n",
       "60  https://www.flipkart.com/apple-iphone-11-black...  Apple       46999   \n",
       "61  https://www.flipkart.com/apple-iphone-11-red-6...  Apple       46999   \n",
       "\n",
       "      Mrp  Discount Percentage  Number Of Ratings  Number Of Reviews  \\\n",
       "0   49900                    0               3431                356   \n",
       "1   84900                    0               3431                356   \n",
       "2   84900                    0               3431                356   \n",
       "3   77000                    0              11202                794   \n",
       "4   77000                    0              11202                794   \n",
       "..    ...                  ...                ...                ...   \n",
       "57  39900                   24              95909               8161   \n",
       "58  54900                   14              43470               3331   \n",
       "59  54900                   14              43470               3331   \n",
       "60  54900                   14              43470               3331   \n",
       "61  54900                   14              43470               3331   \n",
       "\n",
       "                 Upc  Star Rating   Ram  \n",
       "0   MOBEXRGV7EHHTGUH          4.6  2 GB  \n",
       "1   MOBEXRGVAC6TJT4F          4.6  2 GB  \n",
       "2   MOBEXRGVGETABXWZ          4.6  2 GB  \n",
       "3   MOBEXRGVMZWUHCBA          4.5  2 GB  \n",
       "4   MOBEXRGVPK7PFEJZ          4.5  2 GB  \n",
       "..               ...          ...   ...  \n",
       "57  MOBFWQ6BR3MK7AUG          4.5  4 GB  \n",
       "58  MOBFWQ6BTFFJKGKE          4.6  4 GB  \n",
       "59  MOBFWQ6BVWVEH3XE          4.6  4 GB  \n",
       "60  MOBFWQ6BXGJCEYNY          4.6  4 GB  \n",
       "61  MOBFWQ6BYYV3FCU7          4.6  4 GB  \n",
       "\n",
       "[62 rows x 11 columns]"
      ]
     },
     "execution_count": 10,
     "metadata": {},
     "output_type": "execute_result"
    }
   ],
   "source": [
    "df"
   ]
  },
  {
   "cell_type": "code",
   "execution_count": 11,
   "id": "a2a05c16",
   "metadata": {},
   "outputs": [
    {
     "name": "stdout",
     "output_type": "stream",
     "text": [
      "Product Name           0\n",
      "Product URL            0\n",
      "Brand                  0\n",
      "Sale Price             0\n",
      "Mrp                    0\n",
      "Discount Percentage    0\n",
      "Number Of Ratings      0\n",
      "Number Of Reviews      0\n",
      "Upc                    0\n",
      "Star Rating            0\n",
      "Ram                    0\n",
      "dtype: int64\n"
     ]
    }
   ],
   "source": [
    "print(df.isnull().sum())"
   ]
  },
  {
   "cell_type": "code",
   "execution_count": 12,
   "id": "99430819",
   "metadata": {},
   "outputs": [
    {
     "name": "stdout",
     "output_type": "stream",
     "text": [
      "          Sale Price            Mrp  Discount Percentage  Number Of Ratings  \\\n",
      "count      62.000000      62.000000            62.000000          62.000000   \n",
      "mean    80073.887097   88058.064516             9.951613       22420.403226   \n",
      "std     34310.446132   34728.825597             7.608079       33768.589550   \n",
      "min     29999.000000   39900.000000             0.000000         542.000000   \n",
      "25%     49900.000000   54900.000000             6.000000         740.000000   \n",
      "50%     75900.000000   79900.000000            10.000000        2101.000000   \n",
      "75%    117100.000000  120950.000000            14.000000       43470.000000   \n",
      "max    140900.000000  149900.000000            29.000000       95909.000000   \n",
      "\n",
      "       Number Of Reviews  Star Rating  \n",
      "count          62.000000    62.000000  \n",
      "mean         1861.677419     4.575806  \n",
      "std          2855.883830     0.059190  \n",
      "min            42.000000     4.500000  \n",
      "25%            64.000000     4.500000  \n",
      "50%           180.000000     4.600000  \n",
      "75%          3331.000000     4.600000  \n",
      "max          8161.000000     4.700000  \n"
     ]
    }
   ],
   "source": [
    "print(df.describe())"
   ]
  },
  {
   "cell_type": "markdown",
   "id": "b033698d",
   "metadata": {},
   "source": [
    "I Phone sale analysis in India(Top 10 I phones with the most sales based on rating)"
   ]
  },
  {
   "cell_type": "code",
   "execution_count": 13,
   "id": "5cecedf0",
   "metadata": {},
   "outputs": [
    {
     "name": "stdout",
     "output_type": "stream",
     "text": [
      "15                APPLE iPhone 11 Pro Max (Gold, 64 GB)\n",
      "20      APPLE iPhone 11 Pro Max (Midnight Green, 64 GB)\n",
      "17          APPLE iPhone 11 Pro Max (Space Grey, 64 GB)\n",
      "16     APPLE iPhone 11 Pro Max (Midnight Green, 256 GB)\n",
      "14               APPLE iPhone 11 Pro Max (Gold, 256 GB)\n",
      "0                     APPLE iPhone 8 Plus (Gold, 64 GB)\n",
      "12    Apple iPhone XR (Black, 128 GB) (Includes EarP...\n",
      "11    Apple iPhone XR (Coral, 128 GB) (Includes EarP...\n",
      "9     Apple iPhone XR ((PRODUCT)RED, 128 GB) (Includ...\n",
      "1              APPLE iPhone 8 Plus (Space Grey, 256 GB)\n",
      "Name: Product Name, dtype: object\n"
     ]
    }
   ],
   "source": [
    "highest_rated=df.sort_values(by=[\"Star Rating\"], ascending=False)\n",
    "ten_highest_rated=highest_rated.head(10)\n",
    "print(ten_highest_rated[\"Product Name\"])"
   ]
  },
  {
   "cell_type": "markdown",
   "id": "5f5ac8b7",
   "metadata": {},
   "source": [
    "Number of ratings of the highest rated I Phone"
   ]
  },
  {
   "cell_type": "code",
   "execution_count": 14,
   "id": "cad4821c",
   "metadata": {},
   "outputs": [
    {
     "name": "stdout",
     "output_type": "stream",
     "text": [
      "Requirement already satisfied: nbformat in c:\\users\\justi\\onedrive\\desktop\\data_analysis_projects\\.venv\\lib\\site-packages (5.10.4)\n",
      "Requirement already satisfied: fastjsonschema>=2.15 in c:\\users\\justi\\onedrive\\desktop\\data_analysis_projects\\.venv\\lib\\site-packages (from nbformat) (2.21.2)\n",
      "Requirement already satisfied: jsonschema>=2.6 in c:\\users\\justi\\onedrive\\desktop\\data_analysis_projects\\.venv\\lib\\site-packages (from nbformat) (4.25.1)\n",
      "Requirement already satisfied: jupyter-core!=5.0.*,>=4.12 in c:\\users\\justi\\onedrive\\desktop\\data_analysis_projects\\.venv\\lib\\site-packages (from nbformat) (5.8.1)\n",
      "Requirement already satisfied: traitlets>=5.1 in c:\\users\\justi\\onedrive\\desktop\\data_analysis_projects\\.venv\\lib\\site-packages (from nbformat) (5.14.3)\n",
      "Requirement already satisfied: attrs>=22.2.0 in c:\\users\\justi\\onedrive\\desktop\\data_analysis_projects\\.venv\\lib\\site-packages (from jsonschema>=2.6->nbformat) (25.3.0)\n",
      "Requirement already satisfied: jsonschema-specifications>=2023.03.6 in c:\\users\\justi\\onedrive\\desktop\\data_analysis_projects\\.venv\\lib\\site-packages (from jsonschema>=2.6->nbformat) (2025.9.1)\n",
      "Requirement already satisfied: referencing>=0.28.4 in c:\\users\\justi\\onedrive\\desktop\\data_analysis_projects\\.venv\\lib\\site-packages (from jsonschema>=2.6->nbformat) (0.36.2)\n",
      "Requirement already satisfied: rpds-py>=0.7.1 in c:\\users\\justi\\onedrive\\desktop\\data_analysis_projects\\.venv\\lib\\site-packages (from jsonschema>=2.6->nbformat) (0.27.1)\n",
      "Requirement already satisfied: platformdirs>=2.5 in c:\\users\\justi\\onedrive\\desktop\\data_analysis_projects\\.venv\\lib\\site-packages (from jupyter-core!=5.0.*,>=4.12->nbformat) (4.4.0)\n",
      "Requirement already satisfied: pywin32>=300 in c:\\users\\justi\\onedrive\\desktop\\data_analysis_projects\\.venv\\lib\\site-packages (from jupyter-core!=5.0.*,>=4.12->nbformat) (311)\n",
      "Requirement already satisfied: typing-extensions>=4.4.0 in c:\\users\\justi\\onedrive\\desktop\\data_analysis_projects\\.venv\\lib\\site-packages (from referencing>=0.28.4->jsonschema>=2.6->nbformat) (4.15.0)\n",
      "Note: you may need to restart the kernel to use updated packages.\n"
     ]
    }
   ],
   "source": [
    "pip install nbformat"
   ]
  },
  {
   "cell_type": "code",
   "execution_count": 15,
   "id": "f6b21f04",
   "metadata": {},
   "outputs": [
    {
     "data": {
      "application/vnd.plotly.v1+json": {
       "config": {
        "plotlyServerURL": "https://plot.ly"
       },
       "data": [
        {
         "hovertemplate": "Product Name=%{x}<br>Number Of Ratings=%{y}<extra></extra>",
         "legendgroup": "",
         "marker": {
          "color": "#636efa",
          "pattern": {
           "shape": ""
          }
         },
         "name": "",
         "orientation": "v",
         "showlegend": false,
         "textposition": "auto",
         "type": "bar",
         "x": [
          "APPLE iPhone 11 Pro Max (Gold, 64 GB)",
          "APPLE iPhone 11 Pro Max (Midnight Green, 64 GB)",
          "APPLE iPhone 11 Pro Max (Space Grey, 64 GB)",
          "APPLE iPhone 11 Pro Max (Midnight Green, 256 GB)",
          "APPLE iPhone 11 Pro Max (Gold, 256 GB)",
          "APPLE iPhone 8 Plus (Gold, 64 GB)",
          "Apple iPhone XR (Black, 128 GB) (Includes EarPods, Power Adapter)",
          "Apple iPhone XR (Coral, 128 GB) (Includes EarPods, Power Adapter)",
          "Apple iPhone XR ((PRODUCT)RED, 128 GB) (Includes EarPods, Power Adapter)",
          "APPLE iPhone 8 Plus (Space Grey, 256 GB)"
         ],
         "xaxis": "x",
         "y": {
          "bdata": "NgQAADYEAAA2BAAANgQAADYEAABnDQAAmDYBAN42AQCYNgEAZw0AAA==",
          "dtype": "i4"
         },
         "yaxis": "y"
        }
       ],
       "layout": {
        "barmode": "relative",
        "legend": {
         "tracegroupgap": 0
        },
        "template": {
         "data": {
          "bar": [
           {
            "error_x": {
             "color": "#2a3f5f"
            },
            "error_y": {
             "color": "#2a3f5f"
            },
            "marker": {
             "line": {
              "color": "#E5ECF6",
              "width": 0.5
             },
             "pattern": {
              "fillmode": "overlay",
              "size": 10,
              "solidity": 0.2
             }
            },
            "type": "bar"
           }
          ],
          "barpolar": [
           {
            "marker": {
             "line": {
              "color": "#E5ECF6",
              "width": 0.5
             },
             "pattern": {
              "fillmode": "overlay",
              "size": 10,
              "solidity": 0.2
             }
            },
            "type": "barpolar"
           }
          ],
          "carpet": [
           {
            "aaxis": {
             "endlinecolor": "#2a3f5f",
             "gridcolor": "white",
             "linecolor": "white",
             "minorgridcolor": "white",
             "startlinecolor": "#2a3f5f"
            },
            "baxis": {
             "endlinecolor": "#2a3f5f",
             "gridcolor": "white",
             "linecolor": "white",
             "minorgridcolor": "white",
             "startlinecolor": "#2a3f5f"
            },
            "type": "carpet"
           }
          ],
          "choropleth": [
           {
            "colorbar": {
             "outlinewidth": 0,
             "ticks": ""
            },
            "type": "choropleth"
           }
          ],
          "contour": [
           {
            "colorbar": {
             "outlinewidth": 0,
             "ticks": ""
            },
            "colorscale": [
             [
              0,
              "#0d0887"
             ],
             [
              0.1111111111111111,
              "#46039f"
             ],
             [
              0.2222222222222222,
              "#7201a8"
             ],
             [
              0.3333333333333333,
              "#9c179e"
             ],
             [
              0.4444444444444444,
              "#bd3786"
             ],
             [
              0.5555555555555556,
              "#d8576b"
             ],
             [
              0.6666666666666666,
              "#ed7953"
             ],
             [
              0.7777777777777778,
              "#fb9f3a"
             ],
             [
              0.8888888888888888,
              "#fdca26"
             ],
             [
              1,
              "#f0f921"
             ]
            ],
            "type": "contour"
           }
          ],
          "contourcarpet": [
           {
            "colorbar": {
             "outlinewidth": 0,
             "ticks": ""
            },
            "type": "contourcarpet"
           }
          ],
          "heatmap": [
           {
            "colorbar": {
             "outlinewidth": 0,
             "ticks": ""
            },
            "colorscale": [
             [
              0,
              "#0d0887"
             ],
             [
              0.1111111111111111,
              "#46039f"
             ],
             [
              0.2222222222222222,
              "#7201a8"
             ],
             [
              0.3333333333333333,
              "#9c179e"
             ],
             [
              0.4444444444444444,
              "#bd3786"
             ],
             [
              0.5555555555555556,
              "#d8576b"
             ],
             [
              0.6666666666666666,
              "#ed7953"
             ],
             [
              0.7777777777777778,
              "#fb9f3a"
             ],
             [
              0.8888888888888888,
              "#fdca26"
             ],
             [
              1,
              "#f0f921"
             ]
            ],
            "type": "heatmap"
           }
          ],
          "histogram": [
           {
            "marker": {
             "pattern": {
              "fillmode": "overlay",
              "size": 10,
              "solidity": 0.2
             }
            },
            "type": "histogram"
           }
          ],
          "histogram2d": [
           {
            "colorbar": {
             "outlinewidth": 0,
             "ticks": ""
            },
            "colorscale": [
             [
              0,
              "#0d0887"
             ],
             [
              0.1111111111111111,
              "#46039f"
             ],
             [
              0.2222222222222222,
              "#7201a8"
             ],
             [
              0.3333333333333333,
              "#9c179e"
             ],
             [
              0.4444444444444444,
              "#bd3786"
             ],
             [
              0.5555555555555556,
              "#d8576b"
             ],
             [
              0.6666666666666666,
              "#ed7953"
             ],
             [
              0.7777777777777778,
              "#fb9f3a"
             ],
             [
              0.8888888888888888,
              "#fdca26"
             ],
             [
              1,
              "#f0f921"
             ]
            ],
            "type": "histogram2d"
           }
          ],
          "histogram2dcontour": [
           {
            "colorbar": {
             "outlinewidth": 0,
             "ticks": ""
            },
            "colorscale": [
             [
              0,
              "#0d0887"
             ],
             [
              0.1111111111111111,
              "#46039f"
             ],
             [
              0.2222222222222222,
              "#7201a8"
             ],
             [
              0.3333333333333333,
              "#9c179e"
             ],
             [
              0.4444444444444444,
              "#bd3786"
             ],
             [
              0.5555555555555556,
              "#d8576b"
             ],
             [
              0.6666666666666666,
              "#ed7953"
             ],
             [
              0.7777777777777778,
              "#fb9f3a"
             ],
             [
              0.8888888888888888,
              "#fdca26"
             ],
             [
              1,
              "#f0f921"
             ]
            ],
            "type": "histogram2dcontour"
           }
          ],
          "mesh3d": [
           {
            "colorbar": {
             "outlinewidth": 0,
             "ticks": ""
            },
            "type": "mesh3d"
           }
          ],
          "parcoords": [
           {
            "line": {
             "colorbar": {
              "outlinewidth": 0,
              "ticks": ""
             }
            },
            "type": "parcoords"
           }
          ],
          "pie": [
           {
            "automargin": true,
            "type": "pie"
           }
          ],
          "scatter": [
           {
            "fillpattern": {
             "fillmode": "overlay",
             "size": 10,
             "solidity": 0.2
            },
            "type": "scatter"
           }
          ],
          "scatter3d": [
           {
            "line": {
             "colorbar": {
              "outlinewidth": 0,
              "ticks": ""
             }
            },
            "marker": {
             "colorbar": {
              "outlinewidth": 0,
              "ticks": ""
             }
            },
            "type": "scatter3d"
           }
          ],
          "scattercarpet": [
           {
            "marker": {
             "colorbar": {
              "outlinewidth": 0,
              "ticks": ""
             }
            },
            "type": "scattercarpet"
           }
          ],
          "scattergeo": [
           {
            "marker": {
             "colorbar": {
              "outlinewidth": 0,
              "ticks": ""
             }
            },
            "type": "scattergeo"
           }
          ],
          "scattergl": [
           {
            "marker": {
             "colorbar": {
              "outlinewidth": 0,
              "ticks": ""
             }
            },
            "type": "scattergl"
           }
          ],
          "scattermap": [
           {
            "marker": {
             "colorbar": {
              "outlinewidth": 0,
              "ticks": ""
             }
            },
            "type": "scattermap"
           }
          ],
          "scattermapbox": [
           {
            "marker": {
             "colorbar": {
              "outlinewidth": 0,
              "ticks": ""
             }
            },
            "type": "scattermapbox"
           }
          ],
          "scatterpolar": [
           {
            "marker": {
             "colorbar": {
              "outlinewidth": 0,
              "ticks": ""
             }
            },
            "type": "scatterpolar"
           }
          ],
          "scatterpolargl": [
           {
            "marker": {
             "colorbar": {
              "outlinewidth": 0,
              "ticks": ""
             }
            },
            "type": "scatterpolargl"
           }
          ],
          "scatterternary": [
           {
            "marker": {
             "colorbar": {
              "outlinewidth": 0,
              "ticks": ""
             }
            },
            "type": "scatterternary"
           }
          ],
          "surface": [
           {
            "colorbar": {
             "outlinewidth": 0,
             "ticks": ""
            },
            "colorscale": [
             [
              0,
              "#0d0887"
             ],
             [
              0.1111111111111111,
              "#46039f"
             ],
             [
              0.2222222222222222,
              "#7201a8"
             ],
             [
              0.3333333333333333,
              "#9c179e"
             ],
             [
              0.4444444444444444,
              "#bd3786"
             ],
             [
              0.5555555555555556,
              "#d8576b"
             ],
             [
              0.6666666666666666,
              "#ed7953"
             ],
             [
              0.7777777777777778,
              "#fb9f3a"
             ],
             [
              0.8888888888888888,
              "#fdca26"
             ],
             [
              1,
              "#f0f921"
             ]
            ],
            "type": "surface"
           }
          ],
          "table": [
           {
            "cells": {
             "fill": {
              "color": "#EBF0F8"
             },
             "line": {
              "color": "white"
             }
            },
            "header": {
             "fill": {
              "color": "#C8D4E3"
             },
             "line": {
              "color": "white"
             }
            },
            "type": "table"
           }
          ]
         },
         "layout": {
          "annotationdefaults": {
           "arrowcolor": "#2a3f5f",
           "arrowhead": 0,
           "arrowwidth": 1
          },
          "autotypenumbers": "strict",
          "coloraxis": {
           "colorbar": {
            "outlinewidth": 0,
            "ticks": ""
           }
          },
          "colorscale": {
           "diverging": [
            [
             0,
             "#8e0152"
            ],
            [
             0.1,
             "#c51b7d"
            ],
            [
             0.2,
             "#de77ae"
            ],
            [
             0.3,
             "#f1b6da"
            ],
            [
             0.4,
             "#fde0ef"
            ],
            [
             0.5,
             "#f7f7f7"
            ],
            [
             0.6,
             "#e6f5d0"
            ],
            [
             0.7,
             "#b8e186"
            ],
            [
             0.8,
             "#7fbc41"
            ],
            [
             0.9,
             "#4d9221"
            ],
            [
             1,
             "#276419"
            ]
           ],
           "sequential": [
            [
             0,
             "#0d0887"
            ],
            [
             0.1111111111111111,
             "#46039f"
            ],
            [
             0.2222222222222222,
             "#7201a8"
            ],
            [
             0.3333333333333333,
             "#9c179e"
            ],
            [
             0.4444444444444444,
             "#bd3786"
            ],
            [
             0.5555555555555556,
             "#d8576b"
            ],
            [
             0.6666666666666666,
             "#ed7953"
            ],
            [
             0.7777777777777778,
             "#fb9f3a"
            ],
            [
             0.8888888888888888,
             "#fdca26"
            ],
            [
             1,
             "#f0f921"
            ]
           ],
           "sequentialminus": [
            [
             0,
             "#0d0887"
            ],
            [
             0.1111111111111111,
             "#46039f"
            ],
            [
             0.2222222222222222,
             "#7201a8"
            ],
            [
             0.3333333333333333,
             "#9c179e"
            ],
            [
             0.4444444444444444,
             "#bd3786"
            ],
            [
             0.5555555555555556,
             "#d8576b"
            ],
            [
             0.6666666666666666,
             "#ed7953"
            ],
            [
             0.7777777777777778,
             "#fb9f3a"
            ],
            [
             0.8888888888888888,
             "#fdca26"
            ],
            [
             1,
             "#f0f921"
            ]
           ]
          },
          "colorway": [
           "#636efa",
           "#EF553B",
           "#00cc96",
           "#ab63fa",
           "#FFA15A",
           "#19d3f3",
           "#FF6692",
           "#B6E880",
           "#FF97FF",
           "#FECB52"
          ],
          "font": {
           "color": "#2a3f5f"
          },
          "geo": {
           "bgcolor": "white",
           "lakecolor": "white",
           "landcolor": "#E5ECF6",
           "showlakes": true,
           "showland": true,
           "subunitcolor": "white"
          },
          "hoverlabel": {
           "align": "left"
          },
          "hovermode": "closest",
          "mapbox": {
           "style": "light"
          },
          "paper_bgcolor": "white",
          "plot_bgcolor": "#E5ECF6",
          "polar": {
           "angularaxis": {
            "gridcolor": "white",
            "linecolor": "white",
            "ticks": ""
           },
           "bgcolor": "#E5ECF6",
           "radialaxis": {
            "gridcolor": "white",
            "linecolor": "white",
            "ticks": ""
           }
          },
          "scene": {
           "xaxis": {
            "backgroundcolor": "#E5ECF6",
            "gridcolor": "white",
            "gridwidth": 2,
            "linecolor": "white",
            "showbackground": true,
            "ticks": "",
            "zerolinecolor": "white"
           },
           "yaxis": {
            "backgroundcolor": "#E5ECF6",
            "gridcolor": "white",
            "gridwidth": 2,
            "linecolor": "white",
            "showbackground": true,
            "ticks": "",
            "zerolinecolor": "white"
           },
           "zaxis": {
            "backgroundcolor": "#E5ECF6",
            "gridcolor": "white",
            "gridwidth": 2,
            "linecolor": "white",
            "showbackground": true,
            "ticks": "",
            "zerolinecolor": "white"
           }
          },
          "shapedefaults": {
           "line": {
            "color": "#2a3f5f"
           }
          },
          "ternary": {
           "aaxis": {
            "gridcolor": "white",
            "linecolor": "white",
            "ticks": ""
           },
           "baxis": {
            "gridcolor": "white",
            "linecolor": "white",
            "ticks": ""
           },
           "bgcolor": "#E5ECF6",
           "caxis": {
            "gridcolor": "white",
            "linecolor": "white",
            "ticks": ""
           }
          },
          "title": {
           "x": 0.05
          },
          "xaxis": {
           "automargin": true,
           "gridcolor": "white",
           "linecolor": "white",
           "ticks": "",
           "title": {
            "standoff": 15
           },
           "zerolinecolor": "white",
           "zerolinewidth": 2
          },
          "yaxis": {
           "automargin": true,
           "gridcolor": "white",
           "linecolor": "white",
           "ticks": "",
           "title": {
            "standoff": 15
           },
           "zerolinecolor": "white",
           "zerolinewidth": 2
          }
         }
        },
        "title": {
         "text": "Number of ratings of ten highest rated IPhones"
        },
        "xaxis": {
         "anchor": "y",
         "domain": [
          0,
          1
         ],
         "title": {
          "text": "Product Name"
         }
        },
        "yaxis": {
         "anchor": "x",
         "domain": [
          0,
          1
         ],
         "title": {
          "text": "Number Of Ratings"
         }
        }
       }
      }
     },
     "metadata": {},
     "output_type": "display_data"
    }
   ],
   "source": [
    "iphones=ten_highest_rated['Product Name'].value_counts()\n",
    "labels=iphones.index\n",
    "counts=ten_highest_rated['Number Of Ratings']\n",
    "figure= px.bar(ten_highest_rated,x=labels,y=counts,title=\"Number of ratings of ten highest rated IPhones\")\n",
    "figure.show()"
   ]
  },
  {
   "cell_type": "code",
   "execution_count": 16,
   "id": "3bb5ffbe",
   "metadata": {},
   "outputs": [
    {
     "data": {
      "application/vnd.plotly.v1+json": {
       "config": {
        "plotlyServerURL": "https://plot.ly"
       },
       "data": [
        {
         "hovertemplate": "Product Name=%{x}<br>Number Of Reviews=%{y}<extra></extra>",
         "legendgroup": "",
         "marker": {
          "color": "#636efa",
          "pattern": {
           "shape": ""
          }
         },
         "name": "",
         "orientation": "v",
         "showlegend": false,
         "textposition": "auto",
         "type": "bar",
         "x": [
          "APPLE iPhone 11 Pro Max (Gold, 64 GB)",
          "APPLE iPhone 11 Pro Max (Midnight Green, 64 GB)",
          "APPLE iPhone 11 Pro Max (Space Grey, 64 GB)",
          "APPLE iPhone 11 Pro Max (Midnight Green, 256 GB)",
          "APPLE iPhone 11 Pro Max (Gold, 256 GB)",
          "APPLE iPhone 8 Plus (Gold, 64 GB)",
          "Apple iPhone XR (Black, 128 GB) (Includes EarPods, Power Adapter)",
          "Apple iPhone XR (Coral, 128 GB) (Includes EarPods, Power Adapter)",
          "Apple iPhone XR ((PRODUCT)RED, 128 GB) (Includes EarPods, Power Adapter)",
          "APPLE iPhone 8 Plus (Space Grey, 256 GB)"
         ],
         "xaxis": "x",
         "y": {
          "bdata": "ZQBlAGUAZQBlAGQBjBqUGowaZAE=",
          "dtype": "i2"
         },
         "yaxis": "y"
        }
       ],
       "layout": {
        "barmode": "relative",
        "legend": {
         "tracegroupgap": 0
        },
        "template": {
         "data": {
          "bar": [
           {
            "error_x": {
             "color": "#2a3f5f"
            },
            "error_y": {
             "color": "#2a3f5f"
            },
            "marker": {
             "line": {
              "color": "#E5ECF6",
              "width": 0.5
             },
             "pattern": {
              "fillmode": "overlay",
              "size": 10,
              "solidity": 0.2
             }
            },
            "type": "bar"
           }
          ],
          "barpolar": [
           {
            "marker": {
             "line": {
              "color": "#E5ECF6",
              "width": 0.5
             },
             "pattern": {
              "fillmode": "overlay",
              "size": 10,
              "solidity": 0.2
             }
            },
            "type": "barpolar"
           }
          ],
          "carpet": [
           {
            "aaxis": {
             "endlinecolor": "#2a3f5f",
             "gridcolor": "white",
             "linecolor": "white",
             "minorgridcolor": "white",
             "startlinecolor": "#2a3f5f"
            },
            "baxis": {
             "endlinecolor": "#2a3f5f",
             "gridcolor": "white",
             "linecolor": "white",
             "minorgridcolor": "white",
             "startlinecolor": "#2a3f5f"
            },
            "type": "carpet"
           }
          ],
          "choropleth": [
           {
            "colorbar": {
             "outlinewidth": 0,
             "ticks": ""
            },
            "type": "choropleth"
           }
          ],
          "contour": [
           {
            "colorbar": {
             "outlinewidth": 0,
             "ticks": ""
            },
            "colorscale": [
             [
              0,
              "#0d0887"
             ],
             [
              0.1111111111111111,
              "#46039f"
             ],
             [
              0.2222222222222222,
              "#7201a8"
             ],
             [
              0.3333333333333333,
              "#9c179e"
             ],
             [
              0.4444444444444444,
              "#bd3786"
             ],
             [
              0.5555555555555556,
              "#d8576b"
             ],
             [
              0.6666666666666666,
              "#ed7953"
             ],
             [
              0.7777777777777778,
              "#fb9f3a"
             ],
             [
              0.8888888888888888,
              "#fdca26"
             ],
             [
              1,
              "#f0f921"
             ]
            ],
            "type": "contour"
           }
          ],
          "contourcarpet": [
           {
            "colorbar": {
             "outlinewidth": 0,
             "ticks": ""
            },
            "type": "contourcarpet"
           }
          ],
          "heatmap": [
           {
            "colorbar": {
             "outlinewidth": 0,
             "ticks": ""
            },
            "colorscale": [
             [
              0,
              "#0d0887"
             ],
             [
              0.1111111111111111,
              "#46039f"
             ],
             [
              0.2222222222222222,
              "#7201a8"
             ],
             [
              0.3333333333333333,
              "#9c179e"
             ],
             [
              0.4444444444444444,
              "#bd3786"
             ],
             [
              0.5555555555555556,
              "#d8576b"
             ],
             [
              0.6666666666666666,
              "#ed7953"
             ],
             [
              0.7777777777777778,
              "#fb9f3a"
             ],
             [
              0.8888888888888888,
              "#fdca26"
             ],
             [
              1,
              "#f0f921"
             ]
            ],
            "type": "heatmap"
           }
          ],
          "histogram": [
           {
            "marker": {
             "pattern": {
              "fillmode": "overlay",
              "size": 10,
              "solidity": 0.2
             }
            },
            "type": "histogram"
           }
          ],
          "histogram2d": [
           {
            "colorbar": {
             "outlinewidth": 0,
             "ticks": ""
            },
            "colorscale": [
             [
              0,
              "#0d0887"
             ],
             [
              0.1111111111111111,
              "#46039f"
             ],
             [
              0.2222222222222222,
              "#7201a8"
             ],
             [
              0.3333333333333333,
              "#9c179e"
             ],
             [
              0.4444444444444444,
              "#bd3786"
             ],
             [
              0.5555555555555556,
              "#d8576b"
             ],
             [
              0.6666666666666666,
              "#ed7953"
             ],
             [
              0.7777777777777778,
              "#fb9f3a"
             ],
             [
              0.8888888888888888,
              "#fdca26"
             ],
             [
              1,
              "#f0f921"
             ]
            ],
            "type": "histogram2d"
           }
          ],
          "histogram2dcontour": [
           {
            "colorbar": {
             "outlinewidth": 0,
             "ticks": ""
            },
            "colorscale": [
             [
              0,
              "#0d0887"
             ],
             [
              0.1111111111111111,
              "#46039f"
             ],
             [
              0.2222222222222222,
              "#7201a8"
             ],
             [
              0.3333333333333333,
              "#9c179e"
             ],
             [
              0.4444444444444444,
              "#bd3786"
             ],
             [
              0.5555555555555556,
              "#d8576b"
             ],
             [
              0.6666666666666666,
              "#ed7953"
             ],
             [
              0.7777777777777778,
              "#fb9f3a"
             ],
             [
              0.8888888888888888,
              "#fdca26"
             ],
             [
              1,
              "#f0f921"
             ]
            ],
            "type": "histogram2dcontour"
           }
          ],
          "mesh3d": [
           {
            "colorbar": {
             "outlinewidth": 0,
             "ticks": ""
            },
            "type": "mesh3d"
           }
          ],
          "parcoords": [
           {
            "line": {
             "colorbar": {
              "outlinewidth": 0,
              "ticks": ""
             }
            },
            "type": "parcoords"
           }
          ],
          "pie": [
           {
            "automargin": true,
            "type": "pie"
           }
          ],
          "scatter": [
           {
            "fillpattern": {
             "fillmode": "overlay",
             "size": 10,
             "solidity": 0.2
            },
            "type": "scatter"
           }
          ],
          "scatter3d": [
           {
            "line": {
             "colorbar": {
              "outlinewidth": 0,
              "ticks": ""
             }
            },
            "marker": {
             "colorbar": {
              "outlinewidth": 0,
              "ticks": ""
             }
            },
            "type": "scatter3d"
           }
          ],
          "scattercarpet": [
           {
            "marker": {
             "colorbar": {
              "outlinewidth": 0,
              "ticks": ""
             }
            },
            "type": "scattercarpet"
           }
          ],
          "scattergeo": [
           {
            "marker": {
             "colorbar": {
              "outlinewidth": 0,
              "ticks": ""
             }
            },
            "type": "scattergeo"
           }
          ],
          "scattergl": [
           {
            "marker": {
             "colorbar": {
              "outlinewidth": 0,
              "ticks": ""
             }
            },
            "type": "scattergl"
           }
          ],
          "scattermap": [
           {
            "marker": {
             "colorbar": {
              "outlinewidth": 0,
              "ticks": ""
             }
            },
            "type": "scattermap"
           }
          ],
          "scattermapbox": [
           {
            "marker": {
             "colorbar": {
              "outlinewidth": 0,
              "ticks": ""
             }
            },
            "type": "scattermapbox"
           }
          ],
          "scatterpolar": [
           {
            "marker": {
             "colorbar": {
              "outlinewidth": 0,
              "ticks": ""
             }
            },
            "type": "scatterpolar"
           }
          ],
          "scatterpolargl": [
           {
            "marker": {
             "colorbar": {
              "outlinewidth": 0,
              "ticks": ""
             }
            },
            "type": "scatterpolargl"
           }
          ],
          "scatterternary": [
           {
            "marker": {
             "colorbar": {
              "outlinewidth": 0,
              "ticks": ""
             }
            },
            "type": "scatterternary"
           }
          ],
          "surface": [
           {
            "colorbar": {
             "outlinewidth": 0,
             "ticks": ""
            },
            "colorscale": [
             [
              0,
              "#0d0887"
             ],
             [
              0.1111111111111111,
              "#46039f"
             ],
             [
              0.2222222222222222,
              "#7201a8"
             ],
             [
              0.3333333333333333,
              "#9c179e"
             ],
             [
              0.4444444444444444,
              "#bd3786"
             ],
             [
              0.5555555555555556,
              "#d8576b"
             ],
             [
              0.6666666666666666,
              "#ed7953"
             ],
             [
              0.7777777777777778,
              "#fb9f3a"
             ],
             [
              0.8888888888888888,
              "#fdca26"
             ],
             [
              1,
              "#f0f921"
             ]
            ],
            "type": "surface"
           }
          ],
          "table": [
           {
            "cells": {
             "fill": {
              "color": "#EBF0F8"
             },
             "line": {
              "color": "white"
             }
            },
            "header": {
             "fill": {
              "color": "#C8D4E3"
             },
             "line": {
              "color": "white"
             }
            },
            "type": "table"
           }
          ]
         },
         "layout": {
          "annotationdefaults": {
           "arrowcolor": "#2a3f5f",
           "arrowhead": 0,
           "arrowwidth": 1
          },
          "autotypenumbers": "strict",
          "coloraxis": {
           "colorbar": {
            "outlinewidth": 0,
            "ticks": ""
           }
          },
          "colorscale": {
           "diverging": [
            [
             0,
             "#8e0152"
            ],
            [
             0.1,
             "#c51b7d"
            ],
            [
             0.2,
             "#de77ae"
            ],
            [
             0.3,
             "#f1b6da"
            ],
            [
             0.4,
             "#fde0ef"
            ],
            [
             0.5,
             "#f7f7f7"
            ],
            [
             0.6,
             "#e6f5d0"
            ],
            [
             0.7,
             "#b8e186"
            ],
            [
             0.8,
             "#7fbc41"
            ],
            [
             0.9,
             "#4d9221"
            ],
            [
             1,
             "#276419"
            ]
           ],
           "sequential": [
            [
             0,
             "#0d0887"
            ],
            [
             0.1111111111111111,
             "#46039f"
            ],
            [
             0.2222222222222222,
             "#7201a8"
            ],
            [
             0.3333333333333333,
             "#9c179e"
            ],
            [
             0.4444444444444444,
             "#bd3786"
            ],
            [
             0.5555555555555556,
             "#d8576b"
            ],
            [
             0.6666666666666666,
             "#ed7953"
            ],
            [
             0.7777777777777778,
             "#fb9f3a"
            ],
            [
             0.8888888888888888,
             "#fdca26"
            ],
            [
             1,
             "#f0f921"
            ]
           ],
           "sequentialminus": [
            [
             0,
             "#0d0887"
            ],
            [
             0.1111111111111111,
             "#46039f"
            ],
            [
             0.2222222222222222,
             "#7201a8"
            ],
            [
             0.3333333333333333,
             "#9c179e"
            ],
            [
             0.4444444444444444,
             "#bd3786"
            ],
            [
             0.5555555555555556,
             "#d8576b"
            ],
            [
             0.6666666666666666,
             "#ed7953"
            ],
            [
             0.7777777777777778,
             "#fb9f3a"
            ],
            [
             0.8888888888888888,
             "#fdca26"
            ],
            [
             1,
             "#f0f921"
            ]
           ]
          },
          "colorway": [
           "#636efa",
           "#EF553B",
           "#00cc96",
           "#ab63fa",
           "#FFA15A",
           "#19d3f3",
           "#FF6692",
           "#B6E880",
           "#FF97FF",
           "#FECB52"
          ],
          "font": {
           "color": "#2a3f5f"
          },
          "geo": {
           "bgcolor": "white",
           "lakecolor": "white",
           "landcolor": "#E5ECF6",
           "showlakes": true,
           "showland": true,
           "subunitcolor": "white"
          },
          "hoverlabel": {
           "align": "left"
          },
          "hovermode": "closest",
          "mapbox": {
           "style": "light"
          },
          "paper_bgcolor": "white",
          "plot_bgcolor": "#E5ECF6",
          "polar": {
           "angularaxis": {
            "gridcolor": "white",
            "linecolor": "white",
            "ticks": ""
           },
           "bgcolor": "#E5ECF6",
           "radialaxis": {
            "gridcolor": "white",
            "linecolor": "white",
            "ticks": ""
           }
          },
          "scene": {
           "xaxis": {
            "backgroundcolor": "#E5ECF6",
            "gridcolor": "white",
            "gridwidth": 2,
            "linecolor": "white",
            "showbackground": true,
            "ticks": "",
            "zerolinecolor": "white"
           },
           "yaxis": {
            "backgroundcolor": "#E5ECF6",
            "gridcolor": "white",
            "gridwidth": 2,
            "linecolor": "white",
            "showbackground": true,
            "ticks": "",
            "zerolinecolor": "white"
           },
           "zaxis": {
            "backgroundcolor": "#E5ECF6",
            "gridcolor": "white",
            "gridwidth": 2,
            "linecolor": "white",
            "showbackground": true,
            "ticks": "",
            "zerolinecolor": "white"
           }
          },
          "shapedefaults": {
           "line": {
            "color": "#2a3f5f"
           }
          },
          "ternary": {
           "aaxis": {
            "gridcolor": "white",
            "linecolor": "white",
            "ticks": ""
           },
           "baxis": {
            "gridcolor": "white",
            "linecolor": "white",
            "ticks": ""
           },
           "bgcolor": "#E5ECF6",
           "caxis": {
            "gridcolor": "white",
            "linecolor": "white",
            "ticks": ""
           }
          },
          "title": {
           "x": 0.05
          },
          "xaxis": {
           "automargin": true,
           "gridcolor": "white",
           "linecolor": "white",
           "ticks": "",
           "title": {
            "standoff": 15
           },
           "zerolinecolor": "white",
           "zerolinewidth": 2
          },
          "yaxis": {
           "automargin": true,
           "gridcolor": "white",
           "linecolor": "white",
           "ticks": "",
           "title": {
            "standoff": 15
           },
           "zerolinecolor": "white",
           "zerolinewidth": 2
          }
         }
        },
        "title": {
         "text": "Number of reviews of ten highest rated IPhones"
        },
        "xaxis": {
         "anchor": "y",
         "domain": [
          0,
          1
         ],
         "title": {
          "text": "Product Name"
         }
        },
        "yaxis": {
         "anchor": "x",
         "domain": [
          0,
          1
         ],
         "title": {
          "text": "Number Of Reviews"
         }
        }
       }
      }
     },
     "metadata": {},
     "output_type": "display_data"
    }
   ],
   "source": [
    "iphones=ten_highest_rated['Product Name'].value_counts()\n",
    "labels=iphones.index\n",
    "counts=ten_highest_rated['Number Of Reviews']\n",
    "figure= px.bar(ten_highest_rated,x=labels,y=counts,title=\"Number of reviews of ten highest rated IPhones\")\n",
    "figure.show()"
   ]
  },
  {
   "cell_type": "code",
   "execution_count": 18,
   "id": "ccc61358",
   "metadata": {},
   "outputs": [
    {
     "name": "stdout",
     "output_type": "stream",
     "text": [
      "Collecting statsmodels\n",
      "  Downloading statsmodels-0.14.5-cp312-cp312-win_amd64.whl.metadata (9.8 kB)\n",
      "Requirement already satisfied: numpy<3,>=1.22.3 in c:\\users\\justi\\onedrive\\desktop\\data_analysis_projects\\.venv\\lib\\site-packages (from statsmodels) (2.3.3)\n",
      "Collecting scipy!=1.9.2,>=1.8 (from statsmodels)\n",
      "  Using cached scipy-1.16.2-cp312-cp312-win_amd64.whl.metadata (60 kB)\n",
      "Requirement already satisfied: pandas!=2.1.0,>=1.4 in c:\\users\\justi\\onedrive\\desktop\\data_analysis_projects\\.venv\\lib\\site-packages (from statsmodels) (2.3.2)\n",
      "Collecting patsy>=0.5.6 (from statsmodels)\n",
      "  Downloading patsy-1.0.1-py2.py3-none-any.whl.metadata (3.3 kB)\n",
      "Requirement already satisfied: packaging>=21.3 in c:\\users\\justi\\onedrive\\desktop\\data_analysis_projects\\.venv\\lib\\site-packages (from statsmodels) (25.0)\n",
      "Requirement already satisfied: python-dateutil>=2.8.2 in c:\\users\\justi\\onedrive\\desktop\\data_analysis_projects\\.venv\\lib\\site-packages (from pandas!=2.1.0,>=1.4->statsmodels) (2.9.0.post0)\n",
      "Requirement already satisfied: pytz>=2020.1 in c:\\users\\justi\\onedrive\\desktop\\data_analysis_projects\\.venv\\lib\\site-packages (from pandas!=2.1.0,>=1.4->statsmodels) (2025.2)\n",
      "Requirement already satisfied: tzdata>=2022.7 in c:\\users\\justi\\onedrive\\desktop\\data_analysis_projects\\.venv\\lib\\site-packages (from pandas!=2.1.0,>=1.4->statsmodels) (2025.2)\n",
      "Requirement already satisfied: six>=1.5 in c:\\users\\justi\\onedrive\\desktop\\data_analysis_projects\\.venv\\lib\\site-packages (from python-dateutil>=2.8.2->pandas!=2.1.0,>=1.4->statsmodels) (1.17.0)\n",
      "Downloading statsmodels-0.14.5-cp312-cp312-win_amd64.whl (9.6 MB)\n",
      "   ---------------------------------------- 0.0/9.6 MB ? eta -:--:--\n",
      "   ---------------------------------------- 0.0/9.6 MB ? eta -:--:--\n",
      "   ---------------------------------------- 0.0/9.6 MB ? eta -:--:--\n",
      "   ---------------------------------------- 0.0/9.6 MB ? eta -:--:--\n",
      "   ---------------------------------------- 0.0/9.6 MB ? eta -:--:--\n",
      "   ---------------------------------------- 0.0/9.6 MB ? eta -:--:--\n",
      "   ---------------------------------------- 0.0/9.6 MB ? eta -:--:--\n",
      "   ---------------------------------------- 0.0/9.6 MB ? eta -:--:--\n",
      "   ---------------------------------------- 0.0/9.6 MB ? eta -:--:--\n",
      "   ---------------------------------------- 0.0/9.6 MB ? eta -:--:--\n",
      "   ---------------------------------------- 0.0/9.6 MB ? eta -:--:--\n",
      "   ---------------------------------------- 0.0/9.6 MB ? eta -:--:--\n",
      "   ---------------------------------------- 0.0/9.6 MB ? eta -:--:--\n",
      "   - -------------------------------------- 0.3/9.6 MB ? eta -:--:--\n",
      "   -- ------------------------------------- 0.5/9.6 MB 989.2 kB/s eta 0:00:10\n",
      "   -- ------------------------------------- 0.5/9.6 MB 989.2 kB/s eta 0:00:10\n",
      "   --- ------------------------------------ 0.8/9.6 MB 907.1 kB/s eta 0:00:10\n",
      "   --- ------------------------------------ 0.8/9.6 MB 907.1 kB/s eta 0:00:10\n",
      "   --- ------------------------------------ 0.8/9.6 MB 907.1 kB/s eta 0:00:10\n",
      "   --- ------------------------------------ 0.8/9.6 MB 907.1 kB/s eta 0:00:10\n",
      "   ---- ----------------------------------- 1.0/9.6 MB 541.2 kB/s eta 0:00:16\n",
      "   ---- ----------------------------------- 1.0/9.6 MB 541.2 kB/s eta 0:00:16\n",
      "   ---- ----------------------------------- 1.0/9.6 MB 541.2 kB/s eta 0:00:16\n",
      "   ----- ---------------------------------- 1.3/9.6 MB 486.4 kB/s eta 0:00:18\n",
      "   ----- ---------------------------------- 1.3/9.6 MB 486.4 kB/s eta 0:00:18\n",
      "   ------ --------------------------------- 1.6/9.6 MB 544.8 kB/s eta 0:00:15\n",
      "   ------- -------------------------------- 1.8/9.6 MB 585.4 kB/s eta 0:00:14\n",
      "   -------- ------------------------------- 2.1/9.6 MB 618.1 kB/s eta 0:00:13\n",
      "   -------- ------------------------------- 2.1/9.6 MB 618.1 kB/s eta 0:00:13\n",
      "   -------- ------------------------------- 2.1/9.6 MB 618.1 kB/s eta 0:00:13\n",
      "   -------- ------------------------------- 2.1/9.6 MB 618.1 kB/s eta 0:00:13\n",
      "   -------- ------------------------------- 2.1/9.6 MB 618.1 kB/s eta 0:00:13\n",
      "   -------- ------------------------------- 2.1/9.6 MB 618.1 kB/s eta 0:00:13\n",
      "   -------- ------------------------------- 2.1/9.6 MB 618.1 kB/s eta 0:00:13\n",
      "   -------- ------------------------------- 2.1/9.6 MB 618.1 kB/s eta 0:00:13\n",
      "   --------- ------------------------------ 2.4/9.6 MB 456.5 kB/s eta 0:00:16\n",
      "   ---------- ----------------------------- 2.6/9.6 MB 485.6 kB/s eta 0:00:15\n",
      "   ---------- ----------------------------- 2.6/9.6 MB 485.6 kB/s eta 0:00:15\n",
      "   ------------ --------------------------- 2.9/9.6 MB 506.9 kB/s eta 0:00:14\n",
      "   ------------- -------------------------- 3.1/9.6 MB 533.4 kB/s eta 0:00:13\n",
      "   -------------- ------------------------- 3.4/9.6 MB 553.1 kB/s eta 0:00:12\n",
      "   -------------- ------------------------- 3.4/9.6 MB 553.1 kB/s eta 0:00:12\n",
      "   --------------- ------------------------ 3.7/9.6 MB 566.6 kB/s eta 0:00:11\n",
      "   --------------- ------------------------ 3.7/9.6 MB 566.6 kB/s eta 0:00:11\n",
      "   ---------------- ----------------------- 3.9/9.6 MB 578.5 kB/s eta 0:00:10\n",
      "   ---------------- ----------------------- 3.9/9.6 MB 578.5 kB/s eta 0:00:10\n",
      "   ---------------- ----------------------- 3.9/9.6 MB 578.5 kB/s eta 0:00:10\n",
      "   ----------------- ---------------------- 4.2/9.6 MB 563.0 kB/s eta 0:00:10\n",
      "   ----------------- ---------------------- 4.2/9.6 MB 563.0 kB/s eta 0:00:10\n",
      "   ------------------ --------------------- 4.5/9.6 MB 568.7 kB/s eta 0:00:10\n",
      "   -------------------- ------------------- 5.0/9.6 MB 606.4 kB/s eta 0:00:08\n",
      "   --------------------- ------------------ 5.2/9.6 MB 628.7 kB/s eta 0:00:07\n",
      "   ---------------------- ----------------- 5.5/9.6 MB 645.3 kB/s eta 0:00:07\n",
      "   ------------------------ --------------- 5.8/9.6 MB 663.5 kB/s eta 0:00:06\n",
      "   ------------------------- -------------- 6.0/9.6 MB 678.5 kB/s eta 0:00:06\n",
      "   ------------------------- -------------- 6.0/9.6 MB 678.5 kB/s eta 0:00:06\n",
      "   ------------------------- -------------- 6.0/9.6 MB 678.5 kB/s eta 0:00:06\n",
      "   ------------------------- -------------- 6.0/9.6 MB 678.5 kB/s eta 0:00:06\n",
      "   -------------------------- ------------- 6.3/9.6 MB 646.4 kB/s eta 0:00:06\n",
      "   ---------------------------- ----------- 6.8/9.6 MB 682.0 kB/s eta 0:00:05\n",
      "   ----------------------------- ---------- 7.1/9.6 MB 696.8 kB/s eta 0:00:04\n",
      "   ------------------------------- -------- 7.6/9.6 MB 732.9 kB/s eta 0:00:03\n",
      "   --------------------------------- ------ 8.1/9.6 MB 767.2 kB/s eta 0:00:02\n",
      "   ---------------------------------- ----- 8.4/9.6 MB 783.3 kB/s eta 0:00:02\n",
      "   ------------------------------------- -- 8.9/9.6 MB 815.4 kB/s eta 0:00:01\n",
      "   -------------------------------------- - 9.2/9.6 MB 831.5 kB/s eta 0:00:01\n",
      "   -------------------------------------- - 9.2/9.6 MB 831.5 kB/s eta 0:00:01\n",
      "   -------------------------------------- - 9.2/9.6 MB 831.5 kB/s eta 0:00:01\n",
      "   ---------------------------------------  9.4/9.6 MB 800.0 kB/s eta 0:00:01\n",
      "   ---------------------------------------- 9.6/9.6 MB 797.8 kB/s  0:00:14\n",
      "Downloading patsy-1.0.1-py2.py3-none-any.whl (232 kB)\n",
      "Using cached scipy-1.16.2-cp312-cp312-win_amd64.whl (38.6 MB)\n",
      "Installing collected packages: scipy, patsy, statsmodels\n",
      "\n",
      "   ---------------------------------------- 0/3 [scipy]\n",
      "   ---------------------------------------- 0/3 [scipy]\n",
      "   ---------------------------------------- 0/3 [scipy]\n",
      "   ---------------------------------------- 0/3 [scipy]\n",
      "   ---------------------------------------- 0/3 [scipy]\n",
      "   ---------------------------------------- 0/3 [scipy]\n",
      "   ---------------------------------------- 0/3 [scipy]\n",
      "   ---------------------------------------- 0/3 [scipy]\n",
      "   ---------------------------------------- 0/3 [scipy]\n",
      "   ---------------------------------------- 0/3 [scipy]\n",
      "   ---------------------------------------- 0/3 [scipy]\n",
      "   ---------------------------------------- 0/3 [scipy]\n",
      "   ---------------------------------------- 0/3 [scipy]\n",
      "   ---------------------------------------- 0/3 [scipy]\n",
      "   ---------------------------------------- 0/3 [scipy]\n",
      "   ---------------------------------------- 0/3 [scipy]\n",
      "   ---------------------------------------- 0/3 [scipy]\n",
      "   ---------------------------------------- 0/3 [scipy]\n",
      "   ---------------------------------------- 0/3 [scipy]\n",
      "   ---------------------------------------- 0/3 [scipy]\n",
      "   ---------------------------------------- 0/3 [scipy]\n",
      "   ---------------------------------------- 0/3 [scipy]\n",
      "   ---------------------------------------- 0/3 [scipy]\n",
      "   ---------------------------------------- 0/3 [scipy]\n",
      "   ---------------------------------------- 0/3 [scipy]\n",
      "   ---------------------------------------- 0/3 [scipy]\n",
      "   ---------------------------------------- 0/3 [scipy]\n",
      "   ---------------------------------------- 0/3 [scipy]\n",
      "   ---------------------------------------- 0/3 [scipy]\n",
      "   ---------------------------------------- 0/3 [scipy]\n",
      "   ---------------------------------------- 0/3 [scipy]\n",
      "   ---------------------------------------- 0/3 [scipy]\n",
      "   ---------------------------------------- 0/3 [scipy]\n",
      "   ---------------------------------------- 0/3 [scipy]\n",
      "   ---------------------------------------- 0/3 [scipy]\n",
      "   ---------------------------------------- 0/3 [scipy]\n",
      "   ---------------------------------------- 0/3 [scipy]\n",
      "   ---------------------------------------- 0/3 [scipy]\n",
      "   ---------------------------------------- 0/3 [scipy]\n",
      "   ---------------------------------------- 0/3 [scipy]\n",
      "   ---------------------------------------- 0/3 [scipy]\n",
      "   ---------------------------------------- 0/3 [scipy]\n",
      "   ---------------------------------------- 0/3 [scipy]\n",
      "   ---------------------------------------- 0/3 [scipy]\n",
      "   ---------------------------------------- 0/3 [scipy]\n",
      "   ---------------------------------------- 0/3 [scipy]\n",
      "   ---------------------------------------- 0/3 [scipy]\n",
      "   ---------------------------------------- 0/3 [scipy]\n",
      "   ---------------------------------------- 0/3 [scipy]\n",
      "   ---------------------------------------- 0/3 [scipy]\n",
      "   ---------------------------------------- 0/3 [scipy]\n",
      "   ---------------------------------------- 0/3 [scipy]\n",
      "   ---------------------------------------- 0/3 [scipy]\n",
      "   ---------------------------------------- 0/3 [scipy]\n",
      "   ---------------------------------------- 0/3 [scipy]\n",
      "   ---------------------------------------- 0/3 [scipy]\n",
      "   ---------------------------------------- 0/3 [scipy]\n",
      "   ---------------------------------------- 0/3 [scipy]\n",
      "   ---------------------------------------- 0/3 [scipy]\n",
      "   ---------------------------------------- 0/3 [scipy]\n",
      "   ---------------------------------------- 0/3 [scipy]\n",
      "   ---------------------------------------- 0/3 [scipy]\n",
      "   ---------------------------------------- 0/3 [scipy]\n",
      "   ---------------------------------------- 0/3 [scipy]\n",
      "   ---------------------------------------- 0/3 [scipy]\n",
      "   ---------------------------------------- 0/3 [scipy]\n",
      "   ---------------------------------------- 0/3 [scipy]\n",
      "   ---------------------------------------- 0/3 [scipy]\n",
      "   ---------------------------------------- 0/3 [scipy]\n",
      "   ---------------------------------------- 0/3 [scipy]\n",
      "   ---------------------------------------- 0/3 [scipy]\n",
      "   ---------------------------------------- 0/3 [scipy]\n",
      "   ---------------------------------------- 0/3 [scipy]\n",
      "   ---------------------------------------- 0/3 [scipy]\n",
      "   ---------------------------------------- 0/3 [scipy]\n",
      "   ---------------------------------------- 0/3 [scipy]\n",
      "   ---------------------------------------- 0/3 [scipy]\n",
      "   ---------------------------------------- 0/3 [scipy]\n",
      "   ---------------------------------------- 0/3 [scipy]\n",
      "   ---------------------------------------- 0/3 [scipy]\n",
      "   ---------------------------------------- 0/3 [scipy]\n",
      "   ---------------------------------------- 0/3 [scipy]\n",
      "   ---------------------------------------- 0/3 [scipy]\n",
      "   ---------------------------------------- 0/3 [scipy]\n",
      "   ---------------------------------------- 0/3 [scipy]\n",
      "   ---------------------------------------- 0/3 [scipy]\n",
      "   ---------------------------------------- 0/3 [scipy]\n",
      "   ---------------------------------------- 0/3 [scipy]\n",
      "   ---------------------------------------- 0/3 [scipy]\n",
      "   ---------------------------------------- 0/3 [scipy]\n",
      "   ---------------------------------------- 0/3 [scipy]\n",
      "   ---------------------------------------- 0/3 [scipy]\n",
      "   ---------------------------------------- 0/3 [scipy]\n",
      "   ---------------------------------------- 0/3 [scipy]\n",
      "   ---------------------------------------- 0/3 [scipy]\n",
      "   ---------------------------------------- 0/3 [scipy]\n",
      "   ---------------------------------------- 0/3 [scipy]\n",
      "   ---------------------------------------- 0/3 [scipy]\n",
      "   ---------------------------------------- 0/3 [scipy]\n",
      "   ---------------------------------------- 0/3 [scipy]\n",
      "   ---------------------------------------- 0/3 [scipy]\n",
      "   ---------------------------------------- 0/3 [scipy]\n",
      "   ---------------------------------------- 0/3 [scipy]\n",
      "   ---------------------------------------- 0/3 [scipy]\n",
      "   ---------------------------------------- 0/3 [scipy]\n",
      "   ---------------------------------------- 0/3 [scipy]\n",
      "   ---------------------------------------- 0/3 [scipy]\n",
      "   ---------------------------------------- 0/3 [scipy]\n",
      "   ---------------------------------------- 0/3 [scipy]\n",
      "   ---------------------------------------- 0/3 [scipy]\n",
      "   ---------------------------------------- 0/3 [scipy]\n",
      "   ---------------------------------------- 0/3 [scipy]\n",
      "   ---------------------------------------- 0/3 [scipy]\n",
      "   ---------------------------------------- 0/3 [scipy]\n",
      "   ---------------------------------------- 0/3 [scipy]\n",
      "   ---------------------------------------- 0/3 [scipy]\n",
      "   ---------------------------------------- 0/3 [scipy]\n",
      "   ---------------------------------------- 0/3 [scipy]\n",
      "   ---------------------------------------- 0/3 [scipy]\n",
      "   ---------------------------------------- 0/3 [scipy]\n",
      "   ---------------------------------------- 0/3 [scipy]\n",
      "   ---------------------------------------- 0/3 [scipy]\n",
      "   ---------------------------------------- 0/3 [scipy]\n",
      "   ---------------------------------------- 0/3 [scipy]\n",
      "   ---------------------------------------- 0/3 [scipy]\n",
      "   ---------------------------------------- 0/3 [scipy]\n",
      "   ---------------------------------------- 0/3 [scipy]\n",
      "   ---------------------------------------- 0/3 [scipy]\n",
      "   ---------------------------------------- 0/3 [scipy]\n",
      "   ---------------------------------------- 0/3 [scipy]\n",
      "   ---------------------------------------- 0/3 [scipy]\n",
      "   ---------------------------------------- 0/3 [scipy]\n",
      "   ---------------------------------------- 0/3 [scipy]\n",
      "   ---------------------------------------- 0/3 [scipy]\n",
      "   ---------------------------------------- 0/3 [scipy]\n",
      "   ---------------------------------------- 0/3 [scipy]\n",
      "   ---------------------------------------- 0/3 [scipy]\n",
      "   ---------------------------------------- 0/3 [scipy]\n",
      "   ---------------------------------------- 0/3 [scipy]\n",
      "   ---------------------------------------- 0/3 [scipy]\n",
      "   ---------------------------------------- 0/3 [scipy]\n",
      "   ---------------------------------------- 0/3 [scipy]\n",
      "   ---------------------------------------- 0/3 [scipy]\n",
      "   ---------------------------------------- 0/3 [scipy]\n",
      "   ---------------------------------------- 0/3 [scipy]\n",
      "   ---------------------------------------- 0/3 [scipy]\n",
      "   ---------------------------------------- 0/3 [scipy]\n",
      "   ---------------------------------------- 0/3 [scipy]\n",
      "   ---------------------------------------- 0/3 [scipy]\n",
      "   ---------------------------------------- 0/3 [scipy]\n",
      "   ---------------------------------------- 0/3 [scipy]\n",
      "   ---------------------------------------- 0/3 [scipy]\n",
      "   ---------------------------------------- 0/3 [scipy]\n",
      "   ---------------------------------------- 0/3 [scipy]\n",
      "   ---------------------------------------- 0/3 [scipy]\n",
      "   ---------------------------------------- 0/3 [scipy]\n",
      "   ---------------------------------------- 0/3 [scipy]\n",
      "   ---------------------------------------- 0/3 [scipy]\n",
      "   ---------------------------------------- 0/3 [scipy]\n",
      "   ---------------------------------------- 0/3 [scipy]\n",
      "   ---------------------------------------- 0/3 [scipy]\n",
      "   ---------------------------------------- 0/3 [scipy]\n",
      "   ---------------------------------------- 0/3 [scipy]\n",
      "   ---------------------------------------- 0/3 [scipy]\n",
      "   ---------------------------------------- 0/3 [scipy]\n",
      "   ---------------------------------------- 0/3 [scipy]\n",
      "   ---------------------------------------- 0/3 [scipy]\n",
      "   ---------------------------------------- 0/3 [scipy]\n",
      "   ---------------------------------------- 0/3 [scipy]\n",
      "   ---------------------------------------- 0/3 [scipy]\n",
      "   ---------------------------------------- 0/3 [scipy]\n",
      "   ---------------------------------------- 0/3 [scipy]\n",
      "   ---------------------------------------- 0/3 [scipy]\n",
      "   ---------------------------------------- 0/3 [scipy]\n",
      "   ---------------------------------------- 0/3 [scipy]\n",
      "   ---------------------------------------- 0/3 [scipy]\n",
      "   ---------------------------------------- 0/3 [scipy]\n",
      "   ---------------------------------------- 0/3 [scipy]\n",
      "   ---------------------------------------- 0/3 [scipy]\n",
      "   ---------------------------------------- 0/3 [scipy]\n",
      "   ---------------------------------------- 0/3 [scipy]\n",
      "   ---------------------------------------- 0/3 [scipy]\n",
      "   ---------------------------------------- 0/3 [scipy]\n",
      "   ---------------------------------------- 0/3 [scipy]\n",
      "   ---------------------------------------- 0/3 [scipy]\n",
      "   ------------- -------------------------- 1/3 [patsy]\n",
      "   ------------- -------------------------- 1/3 [patsy]\n",
      "   ------------- -------------------------- 1/3 [patsy]\n",
      "   ------------- -------------------------- 1/3 [patsy]\n",
      "   ------------- -------------------------- 1/3 [patsy]\n",
      "   -------------------------- ------------- 2/3 [statsmodels]\n",
      "   -------------------------- ------------- 2/3 [statsmodels]\n",
      "   -------------------------- ------------- 2/3 [statsmodels]\n",
      "   -------------------------- ------------- 2/3 [statsmodels]\n",
      "   -------------------------- ------------- 2/3 [statsmodels]\n",
      "   -------------------------- ------------- 2/3 [statsmodels]\n",
      "   -------------------------- ------------- 2/3 [statsmodels]\n",
      "   -------------------------- ------------- 2/3 [statsmodels]\n",
      "   -------------------------- ------------- 2/3 [statsmodels]\n",
      "   -------------------------- ------------- 2/3 [statsmodels]\n",
      "   -------------------------- ------------- 2/3 [statsmodels]\n",
      "   -------------------------- ------------- 2/3 [statsmodels]\n",
      "   -------------------------- ------------- 2/3 [statsmodels]\n",
      "   -------------------------- ------------- 2/3 [statsmodels]\n",
      "   -------------------------- ------------- 2/3 [statsmodels]\n",
      "   -------------------------- ------------- 2/3 [statsmodels]\n",
      "   -------------------------- ------------- 2/3 [statsmodels]\n",
      "   -------------------------- ------------- 2/3 [statsmodels]\n",
      "   -------------------------- ------------- 2/3 [statsmodels]\n",
      "   -------------------------- ------------- 2/3 [statsmodels]\n",
      "   -------------------------- ------------- 2/3 [statsmodels]\n",
      "   -------------------------- ------------- 2/3 [statsmodels]\n",
      "   -------------------------- ------------- 2/3 [statsmodels]\n",
      "   -------------------------- ------------- 2/3 [statsmodels]\n",
      "   -------------------------- ------------- 2/3 [statsmodels]\n",
      "   -------------------------- ------------- 2/3 [statsmodels]\n",
      "   -------------------------- ------------- 2/3 [statsmodels]\n",
      "   -------------------------- ------------- 2/3 [statsmodels]\n",
      "   -------------------------- ------------- 2/3 [statsmodels]\n",
      "   -------------------------- ------------- 2/3 [statsmodels]\n",
      "   -------------------------- ------------- 2/3 [statsmodels]\n",
      "   -------------------------- ------------- 2/3 [statsmodels]\n",
      "   -------------------------- ------------- 2/3 [statsmodels]\n",
      "   -------------------------- ------------- 2/3 [statsmodels]\n",
      "   -------------------------- ------------- 2/3 [statsmodels]\n",
      "   -------------------------- ------------- 2/3 [statsmodels]\n",
      "   -------------------------- ------------- 2/3 [statsmodels]\n",
      "   -------------------------- ------------- 2/3 [statsmodels]\n",
      "   -------------------------- ------------- 2/3 [statsmodels]\n",
      "   -------------------------- ------------- 2/3 [statsmodels]\n",
      "   -------------------------- ------------- 2/3 [statsmodels]\n",
      "   -------------------------- ------------- 2/3 [statsmodels]\n",
      "   -------------------------- ------------- 2/3 [statsmodels]\n",
      "   -------------------------- ------------- 2/3 [statsmodels]\n",
      "   -------------------------- ------------- 2/3 [statsmodels]\n",
      "   -------------------------- ------------- 2/3 [statsmodels]\n",
      "   -------------------------- ------------- 2/3 [statsmodels]\n",
      "   -------------------------- ------------- 2/3 [statsmodels]\n",
      "   -------------------------- ------------- 2/3 [statsmodels]\n",
      "   -------------------------- ------------- 2/3 [statsmodels]\n",
      "   -------------------------- ------------- 2/3 [statsmodels]\n",
      "   -------------------------- ------------- 2/3 [statsmodels]\n",
      "   -------------------------- ------------- 2/3 [statsmodels]\n",
      "   -------------------------- ------------- 2/3 [statsmodels]\n",
      "   -------------------------- ------------- 2/3 [statsmodels]\n",
      "   -------------------------- ------------- 2/3 [statsmodels]\n",
      "   -------------------------- ------------- 2/3 [statsmodels]\n",
      "   -------------------------- ------------- 2/3 [statsmodels]\n",
      "   -------------------------- ------------- 2/3 [statsmodels]\n",
      "   -------------------------- ------------- 2/3 [statsmodels]\n",
      "   -------------------------- ------------- 2/3 [statsmodels]\n",
      "   -------------------------- ------------- 2/3 [statsmodels]\n",
      "   -------------------------- ------------- 2/3 [statsmodels]\n",
      "   -------------------------- ------------- 2/3 [statsmodels]\n",
      "   -------------------------- ------------- 2/3 [statsmodels]\n",
      "   -------------------------- ------------- 2/3 [statsmodels]\n",
      "   -------------------------- ------------- 2/3 [statsmodels]\n",
      "   -------------------------- ------------- 2/3 [statsmodels]\n",
      "   -------------------------- ------------- 2/3 [statsmodels]\n",
      "   -------------------------- ------------- 2/3 [statsmodels]\n",
      "   -------------------------- ------------- 2/3 [statsmodels]\n",
      "   -------------------------- ------------- 2/3 [statsmodels]\n",
      "   -------------------------- ------------- 2/3 [statsmodels]\n",
      "   -------------------------- ------------- 2/3 [statsmodels]\n",
      "   -------------------------- ------------- 2/3 [statsmodels]\n",
      "   -------------------------- ------------- 2/3 [statsmodels]\n",
      "   -------------------------- ------------- 2/3 [statsmodels]\n",
      "   -------------------------- ------------- 2/3 [statsmodels]\n",
      "   -------------------------- ------------- 2/3 [statsmodels]\n",
      "   -------------------------- ------------- 2/3 [statsmodels]\n",
      "   -------------------------- ------------- 2/3 [statsmodels]\n",
      "   -------------------------- ------------- 2/3 [statsmodels]\n",
      "   -------------------------- ------------- 2/3 [statsmodels]\n",
      "   -------------------------- ------------- 2/3 [statsmodels]\n",
      "   -------------------------- ------------- 2/3 [statsmodels]\n",
      "   -------------------------- ------------- 2/3 [statsmodels]\n",
      "   -------------------------- ------------- 2/3 [statsmodels]\n",
      "   -------------------------- ------------- 2/3 [statsmodels]\n",
      "   -------------------------- ------------- 2/3 [statsmodels]\n",
      "   -------------------------- ------------- 2/3 [statsmodels]\n",
      "   -------------------------- ------------- 2/3 [statsmodels]\n",
      "   -------------------------- ------------- 2/3 [statsmodels]\n",
      "   -------------------------- ------------- 2/3 [statsmodels]\n",
      "   -------------------------- ------------- 2/3 [statsmodels]\n",
      "   -------------------------- ------------- 2/3 [statsmodels]\n",
      "   -------------------------- ------------- 2/3 [statsmodels]\n",
      "   -------------------------- ------------- 2/3 [statsmodels]\n",
      "   -------------------------- ------------- 2/3 [statsmodels]\n",
      "   -------------------------- ------------- 2/3 [statsmodels]\n",
      "   -------------------------- ------------- 2/3 [statsmodels]\n",
      "   -------------------------- ------------- 2/3 [statsmodels]\n",
      "   -------------------------- ------------- 2/3 [statsmodels]\n",
      "   -------------------------- ------------- 2/3 [statsmodels]\n",
      "   -------------------------- ------------- 2/3 [statsmodels]\n",
      "   -------------------------- ------------- 2/3 [statsmodels]\n",
      "   -------------------------- ------------- 2/3 [statsmodels]\n",
      "   -------------------------- ------------- 2/3 [statsmodels]\n",
      "   -------------------------- ------------- 2/3 [statsmodels]\n",
      "   -------------------------- ------------- 2/3 [statsmodels]\n",
      "   -------------------------- ------------- 2/3 [statsmodels]\n",
      "   -------------------------- ------------- 2/3 [statsmodels]\n",
      "   -------------------------- ------------- 2/3 [statsmodels]\n",
      "   -------------------------- ------------- 2/3 [statsmodels]\n",
      "   -------------------------- ------------- 2/3 [statsmodels]\n",
      "   -------------------------- ------------- 2/3 [statsmodels]\n",
      "   -------------------------- ------------- 2/3 [statsmodels]\n",
      "   -------------------------- ------------- 2/3 [statsmodels]\n",
      "   -------------------------- ------------- 2/3 [statsmodels]\n",
      "   -------------------------- ------------- 2/3 [statsmodels]\n",
      "   -------------------------- ------------- 2/3 [statsmodels]\n",
      "   -------------------------- ------------- 2/3 [statsmodels]\n",
      "   -------------------------- ------------- 2/3 [statsmodels]\n",
      "   -------------------------- ------------- 2/3 [statsmodels]\n",
      "   -------------------------- ------------- 2/3 [statsmodels]\n",
      "   -------------------------- ------------- 2/3 [statsmodels]\n",
      "   -------------------------- ------------- 2/3 [statsmodels]\n",
      "   -------------------------- ------------- 2/3 [statsmodels]\n",
      "   -------------------------- ------------- 2/3 [statsmodels]\n",
      "   -------------------------- ------------- 2/3 [statsmodels]\n",
      "   -------------------------- ------------- 2/3 [statsmodels]\n",
      "   -------------------------- ------------- 2/3 [statsmodels]\n",
      "   -------------------------- ------------- 2/3 [statsmodels]\n",
      "   -------------------------- ------------- 2/3 [statsmodels]\n",
      "   -------------------------- ------------- 2/3 [statsmodels]\n",
      "   -------------------------- ------------- 2/3 [statsmodels]\n",
      "   -------------------------- ------------- 2/3 [statsmodels]\n",
      "   -------------------------- ------------- 2/3 [statsmodels]\n",
      "   -------------------------- ------------- 2/3 [statsmodels]\n",
      "   -------------------------- ------------- 2/3 [statsmodels]\n",
      "   ---------------------------------------- 3/3 [statsmodels]\n",
      "\n",
      "Successfully installed patsy-1.0.1 scipy-1.16.2 statsmodels-0.14.5\n",
      "Note: you may need to restart the kernel to use updated packages.\n"
     ]
    }
   ],
   "source": [
    "pip install statsmodels"
   ]
  },
  {
   "cell_type": "code",
   "execution_count": 19,
   "id": "edf524ca",
   "metadata": {},
   "outputs": [
    {
     "data": {
      "application/vnd.plotly.v1+json": {
       "config": {
        "plotlyServerURL": "https://plot.ly"
       },
       "data": [
        {
         "hovertemplate": "Number Of Ratings=%{x}<br>Sale Price=%{y}<br>Discount Percentage=%{marker.size}<extra></extra>",
         "legendgroup": "",
         "marker": {
          "color": "#636efa",
          "size": {
           "bdata": "AAAAAAAAAAAAFBAUFBQAAAAAHQ8ADxESBgYNBg4KBwYGDQ0KCgYOBgoGCwsKDgcGBgYICBgWFhYIGA4ODg4=",
           "dtype": "i1"
          },
          "sizemode": "area",
          "sizeref": 0.0725,
          "symbol": "circle"
         },
         "mode": "markers",
         "name": "",
         "orientation": "v",
         "showlegend": false,
         "type": "scatter",
         "x": {
          "bdata": "Zw0AAGcNAABnDQAAwisAAMIrAABnDQAAZw0AAMIrAACuBQAAmDYBAJg2AQDeNgEAmDYBAJg2AQA2BAAANgQAADYEAAA2BAAAsBsAALAbAAA2BAAAsBsAAKkbAACldgEAHgIAAEQCAADkAgAAIQIAAOQCAAA1CAAAIQIAAEQCAABEAgAA2gIAANoCAAA1CAAANQgAAEQCAADkAgAARAIAACwIAAAhAgAANQgAACwIAAA1CAAA5AIAACECAABEAgAARAIAAEQCAAC7qgAAu6oAAD92AQCldgEAP3YBAKV2AQDOqQAApXYBAM6pAADOqQAAzqkAAM6pAAA=",
          "dtype": "i4"
         },
         "xaxis": "x",
         "y": {
          "bdata": "7MIAAKRLAQCkSwEAyCwBAMgsAQDswgAA7MIAAMgsAQAsXwEAD6QAAD+cAAAPpAAAD6QAAA+kAAA8AwIAbMkBADwDAgBsyQEA9yQBAIzMAQBsyQEAjMwBADyGAQDHrwAAZCYCAFT/AQCE/QAARNgBAPzpAAB8KAEANLEBAFT/AQBE2AEAhP0AAIT9AAB8KAEAfCgBAETYAQD86QAARNgBAHwoAQBkJgIA9BQBAPQUAQB8KAEA/OkAADSxAQBE2AEAVP8BAFT/AQDX1gAA19YAAC91AAC3iAAAt4gAALeIAADX1gAAL3UAAJe3AACXtwAAl7cAAJe3AAA=",
          "dtype": "i4"
         },
         "yaxis": "y"
        },
        {
         "hovertemplate": "<b>OLS trendline</b><br>Sale Price = -0.712783 * Number Of Ratings + 96054.8<br>R<sup>2</sup>=0.492139<br><br>Number Of Ratings=%{x}<br>Sale Price=%{y} <b>(trend)</b><extra></extra>",
         "legendgroup": "",
         "marker": {
          "color": "#636efa",
          "symbol": "circle"
         },
         "mode": "lines",
         "name": "",
         "showlegend": false,
         "type": "scatter",
         "x": {
          "bdata": "HgIAACECAAAhAgAAIQIAACECAABEAgAARAIAAEQCAABEAgAARAIAAEQCAABEAgAARAIAANoCAADaAgAA5AIAAOQCAADkAgAA5AIAADYEAAA2BAAANgQAADYEAAA2BAAArgUAACwIAAAsCAAANQgAADUIAAA1CAAANQgAADUIAABnDQAAZw0AAGcNAABnDQAAZw0AAKkbAACwGwAAsBsAALAbAADCKwAAwisAAMIrAADOqQAAzqkAAM6pAADOqQAAzqkAALuqAAC7qgAAmDYBAJg2AQCYNgEAmDYBAN42AQA/dgEAP3YBAKV2AQCldgEApXYBAKV2AQA=",
          "dtype": "i4"
         },
         "xaxis": "x",
         "y": {
          "bdata": "EVl69UZb90Dvxs2+JFv3QO/Gzb4kW/dA78bNviRb90Dvxs2+JFv3QLfIRZaVWfdAt8hFlpVZ90C3yEWWlVn3QLfIRZaVWfdAt8hFlpVZ90C3yEWWlVn3QLfIRZaVWfdAt8hFlpVZ90ANPpHo5lL3QA0+kejmUvdARqz83HRS90BGrPzcdFL3QEas/Nx0UvdARqz83HRS90CYBl8iZkP3QJgGXyJmQ/dAmAZfImZD90CYBl8iZkP3QJgGXyJmQ/dAkNCMCKYy90COFYbyORb3QI4VhvI5FvdAKF+ATtMV90AoX4BO0xX3QChfgE7TFfdAKF+ATtMV90AoX4BO0xX3QMCiUEqT2vZAwKJQSpPa9kDAolBKk9r2QMCiUEqT2vZAwKJQSpPa9kD3yXzH+Df2QFLKlPKoN/ZAUsqU8qg39kBSypTyqDf2QEJS07xigPVAQlLTvGKA9UBCUtO8YoD1QBLiTiTDxe9AEuJOJMPF70AS4k4kw8XvQBLiTiTDxe9AEuJOJMPF70AEscxlpbDvQASxzGWlsO9AX+jqdn8640Bf6Op2fzrjQF/o6nZ/OuNAX+jqdn8640B878rUQjTjQAgvHhVMHdtACC8eFUwd20DojHAJHwvbQOiMcAkfC9tA6IxwCR8L20DojHAJHwvbQA==",
          "dtype": "f8"
         },
         "yaxis": "y"
        }
       ],
       "layout": {
        "legend": {
         "itemsizing": "constant",
         "tracegroupgap": 0
        },
        "template": {
         "data": {
          "bar": [
           {
            "error_x": {
             "color": "#2a3f5f"
            },
            "error_y": {
             "color": "#2a3f5f"
            },
            "marker": {
             "line": {
              "color": "#E5ECF6",
              "width": 0.5
             },
             "pattern": {
              "fillmode": "overlay",
              "size": 10,
              "solidity": 0.2
             }
            },
            "type": "bar"
           }
          ],
          "barpolar": [
           {
            "marker": {
             "line": {
              "color": "#E5ECF6",
              "width": 0.5
             },
             "pattern": {
              "fillmode": "overlay",
              "size": 10,
              "solidity": 0.2
             }
            },
            "type": "barpolar"
           }
          ],
          "carpet": [
           {
            "aaxis": {
             "endlinecolor": "#2a3f5f",
             "gridcolor": "white",
             "linecolor": "white",
             "minorgridcolor": "white",
             "startlinecolor": "#2a3f5f"
            },
            "baxis": {
             "endlinecolor": "#2a3f5f",
             "gridcolor": "white",
             "linecolor": "white",
             "minorgridcolor": "white",
             "startlinecolor": "#2a3f5f"
            },
            "type": "carpet"
           }
          ],
          "choropleth": [
           {
            "colorbar": {
             "outlinewidth": 0,
             "ticks": ""
            },
            "type": "choropleth"
           }
          ],
          "contour": [
           {
            "colorbar": {
             "outlinewidth": 0,
             "ticks": ""
            },
            "colorscale": [
             [
              0,
              "#0d0887"
             ],
             [
              0.1111111111111111,
              "#46039f"
             ],
             [
              0.2222222222222222,
              "#7201a8"
             ],
             [
              0.3333333333333333,
              "#9c179e"
             ],
             [
              0.4444444444444444,
              "#bd3786"
             ],
             [
              0.5555555555555556,
              "#d8576b"
             ],
             [
              0.6666666666666666,
              "#ed7953"
             ],
             [
              0.7777777777777778,
              "#fb9f3a"
             ],
             [
              0.8888888888888888,
              "#fdca26"
             ],
             [
              1,
              "#f0f921"
             ]
            ],
            "type": "contour"
           }
          ],
          "contourcarpet": [
           {
            "colorbar": {
             "outlinewidth": 0,
             "ticks": ""
            },
            "type": "contourcarpet"
           }
          ],
          "heatmap": [
           {
            "colorbar": {
             "outlinewidth": 0,
             "ticks": ""
            },
            "colorscale": [
             [
              0,
              "#0d0887"
             ],
             [
              0.1111111111111111,
              "#46039f"
             ],
             [
              0.2222222222222222,
              "#7201a8"
             ],
             [
              0.3333333333333333,
              "#9c179e"
             ],
             [
              0.4444444444444444,
              "#bd3786"
             ],
             [
              0.5555555555555556,
              "#d8576b"
             ],
             [
              0.6666666666666666,
              "#ed7953"
             ],
             [
              0.7777777777777778,
              "#fb9f3a"
             ],
             [
              0.8888888888888888,
              "#fdca26"
             ],
             [
              1,
              "#f0f921"
             ]
            ],
            "type": "heatmap"
           }
          ],
          "histogram": [
           {
            "marker": {
             "pattern": {
              "fillmode": "overlay",
              "size": 10,
              "solidity": 0.2
             }
            },
            "type": "histogram"
           }
          ],
          "histogram2d": [
           {
            "colorbar": {
             "outlinewidth": 0,
             "ticks": ""
            },
            "colorscale": [
             [
              0,
              "#0d0887"
             ],
             [
              0.1111111111111111,
              "#46039f"
             ],
             [
              0.2222222222222222,
              "#7201a8"
             ],
             [
              0.3333333333333333,
              "#9c179e"
             ],
             [
              0.4444444444444444,
              "#bd3786"
             ],
             [
              0.5555555555555556,
              "#d8576b"
             ],
             [
              0.6666666666666666,
              "#ed7953"
             ],
             [
              0.7777777777777778,
              "#fb9f3a"
             ],
             [
              0.8888888888888888,
              "#fdca26"
             ],
             [
              1,
              "#f0f921"
             ]
            ],
            "type": "histogram2d"
           }
          ],
          "histogram2dcontour": [
           {
            "colorbar": {
             "outlinewidth": 0,
             "ticks": ""
            },
            "colorscale": [
             [
              0,
              "#0d0887"
             ],
             [
              0.1111111111111111,
              "#46039f"
             ],
             [
              0.2222222222222222,
              "#7201a8"
             ],
             [
              0.3333333333333333,
              "#9c179e"
             ],
             [
              0.4444444444444444,
              "#bd3786"
             ],
             [
              0.5555555555555556,
              "#d8576b"
             ],
             [
              0.6666666666666666,
              "#ed7953"
             ],
             [
              0.7777777777777778,
              "#fb9f3a"
             ],
             [
              0.8888888888888888,
              "#fdca26"
             ],
             [
              1,
              "#f0f921"
             ]
            ],
            "type": "histogram2dcontour"
           }
          ],
          "mesh3d": [
           {
            "colorbar": {
             "outlinewidth": 0,
             "ticks": ""
            },
            "type": "mesh3d"
           }
          ],
          "parcoords": [
           {
            "line": {
             "colorbar": {
              "outlinewidth": 0,
              "ticks": ""
             }
            },
            "type": "parcoords"
           }
          ],
          "pie": [
           {
            "automargin": true,
            "type": "pie"
           }
          ],
          "scatter": [
           {
            "fillpattern": {
             "fillmode": "overlay",
             "size": 10,
             "solidity": 0.2
            },
            "type": "scatter"
           }
          ],
          "scatter3d": [
           {
            "line": {
             "colorbar": {
              "outlinewidth": 0,
              "ticks": ""
             }
            },
            "marker": {
             "colorbar": {
              "outlinewidth": 0,
              "ticks": ""
             }
            },
            "type": "scatter3d"
           }
          ],
          "scattercarpet": [
           {
            "marker": {
             "colorbar": {
              "outlinewidth": 0,
              "ticks": ""
             }
            },
            "type": "scattercarpet"
           }
          ],
          "scattergeo": [
           {
            "marker": {
             "colorbar": {
              "outlinewidth": 0,
              "ticks": ""
             }
            },
            "type": "scattergeo"
           }
          ],
          "scattergl": [
           {
            "marker": {
             "colorbar": {
              "outlinewidth": 0,
              "ticks": ""
             }
            },
            "type": "scattergl"
           }
          ],
          "scattermap": [
           {
            "marker": {
             "colorbar": {
              "outlinewidth": 0,
              "ticks": ""
             }
            },
            "type": "scattermap"
           }
          ],
          "scattermapbox": [
           {
            "marker": {
             "colorbar": {
              "outlinewidth": 0,
              "ticks": ""
             }
            },
            "type": "scattermapbox"
           }
          ],
          "scatterpolar": [
           {
            "marker": {
             "colorbar": {
              "outlinewidth": 0,
              "ticks": ""
             }
            },
            "type": "scatterpolar"
           }
          ],
          "scatterpolargl": [
           {
            "marker": {
             "colorbar": {
              "outlinewidth": 0,
              "ticks": ""
             }
            },
            "type": "scatterpolargl"
           }
          ],
          "scatterternary": [
           {
            "marker": {
             "colorbar": {
              "outlinewidth": 0,
              "ticks": ""
             }
            },
            "type": "scatterternary"
           }
          ],
          "surface": [
           {
            "colorbar": {
             "outlinewidth": 0,
             "ticks": ""
            },
            "colorscale": [
             [
              0,
              "#0d0887"
             ],
             [
              0.1111111111111111,
              "#46039f"
             ],
             [
              0.2222222222222222,
              "#7201a8"
             ],
             [
              0.3333333333333333,
              "#9c179e"
             ],
             [
              0.4444444444444444,
              "#bd3786"
             ],
             [
              0.5555555555555556,
              "#d8576b"
             ],
             [
              0.6666666666666666,
              "#ed7953"
             ],
             [
              0.7777777777777778,
              "#fb9f3a"
             ],
             [
              0.8888888888888888,
              "#fdca26"
             ],
             [
              1,
              "#f0f921"
             ]
            ],
            "type": "surface"
           }
          ],
          "table": [
           {
            "cells": {
             "fill": {
              "color": "#EBF0F8"
             },
             "line": {
              "color": "white"
             }
            },
            "header": {
             "fill": {
              "color": "#C8D4E3"
             },
             "line": {
              "color": "white"
             }
            },
            "type": "table"
           }
          ]
         },
         "layout": {
          "annotationdefaults": {
           "arrowcolor": "#2a3f5f",
           "arrowhead": 0,
           "arrowwidth": 1
          },
          "autotypenumbers": "strict",
          "coloraxis": {
           "colorbar": {
            "outlinewidth": 0,
            "ticks": ""
           }
          },
          "colorscale": {
           "diverging": [
            [
             0,
             "#8e0152"
            ],
            [
             0.1,
             "#c51b7d"
            ],
            [
             0.2,
             "#de77ae"
            ],
            [
             0.3,
             "#f1b6da"
            ],
            [
             0.4,
             "#fde0ef"
            ],
            [
             0.5,
             "#f7f7f7"
            ],
            [
             0.6,
             "#e6f5d0"
            ],
            [
             0.7,
             "#b8e186"
            ],
            [
             0.8,
             "#7fbc41"
            ],
            [
             0.9,
             "#4d9221"
            ],
            [
             1,
             "#276419"
            ]
           ],
           "sequential": [
            [
             0,
             "#0d0887"
            ],
            [
             0.1111111111111111,
             "#46039f"
            ],
            [
             0.2222222222222222,
             "#7201a8"
            ],
            [
             0.3333333333333333,
             "#9c179e"
            ],
            [
             0.4444444444444444,
             "#bd3786"
            ],
            [
             0.5555555555555556,
             "#d8576b"
            ],
            [
             0.6666666666666666,
             "#ed7953"
            ],
            [
             0.7777777777777778,
             "#fb9f3a"
            ],
            [
             0.8888888888888888,
             "#fdca26"
            ],
            [
             1,
             "#f0f921"
            ]
           ],
           "sequentialminus": [
            [
             0,
             "#0d0887"
            ],
            [
             0.1111111111111111,
             "#46039f"
            ],
            [
             0.2222222222222222,
             "#7201a8"
            ],
            [
             0.3333333333333333,
             "#9c179e"
            ],
            [
             0.4444444444444444,
             "#bd3786"
            ],
            [
             0.5555555555555556,
             "#d8576b"
            ],
            [
             0.6666666666666666,
             "#ed7953"
            ],
            [
             0.7777777777777778,
             "#fb9f3a"
            ],
            [
             0.8888888888888888,
             "#fdca26"
            ],
            [
             1,
             "#f0f921"
            ]
           ]
          },
          "colorway": [
           "#636efa",
           "#EF553B",
           "#00cc96",
           "#ab63fa",
           "#FFA15A",
           "#19d3f3",
           "#FF6692",
           "#B6E880",
           "#FF97FF",
           "#FECB52"
          ],
          "font": {
           "color": "#2a3f5f"
          },
          "geo": {
           "bgcolor": "white",
           "lakecolor": "white",
           "landcolor": "#E5ECF6",
           "showlakes": true,
           "showland": true,
           "subunitcolor": "white"
          },
          "hoverlabel": {
           "align": "left"
          },
          "hovermode": "closest",
          "mapbox": {
           "style": "light"
          },
          "paper_bgcolor": "white",
          "plot_bgcolor": "#E5ECF6",
          "polar": {
           "angularaxis": {
            "gridcolor": "white",
            "linecolor": "white",
            "ticks": ""
           },
           "bgcolor": "#E5ECF6",
           "radialaxis": {
            "gridcolor": "white",
            "linecolor": "white",
            "ticks": ""
           }
          },
          "scene": {
           "xaxis": {
            "backgroundcolor": "#E5ECF6",
            "gridcolor": "white",
            "gridwidth": 2,
            "linecolor": "white",
            "showbackground": true,
            "ticks": "",
            "zerolinecolor": "white"
           },
           "yaxis": {
            "backgroundcolor": "#E5ECF6",
            "gridcolor": "white",
            "gridwidth": 2,
            "linecolor": "white",
            "showbackground": true,
            "ticks": "",
            "zerolinecolor": "white"
           },
           "zaxis": {
            "backgroundcolor": "#E5ECF6",
            "gridcolor": "white",
            "gridwidth": 2,
            "linecolor": "white",
            "showbackground": true,
            "ticks": "",
            "zerolinecolor": "white"
           }
          },
          "shapedefaults": {
           "line": {
            "color": "#2a3f5f"
           }
          },
          "ternary": {
           "aaxis": {
            "gridcolor": "white",
            "linecolor": "white",
            "ticks": ""
           },
           "baxis": {
            "gridcolor": "white",
            "linecolor": "white",
            "ticks": ""
           },
           "bgcolor": "#E5ECF6",
           "caxis": {
            "gridcolor": "white",
            "linecolor": "white",
            "ticks": ""
           }
          },
          "title": {
           "x": 0.05
          },
          "xaxis": {
           "automargin": true,
           "gridcolor": "white",
           "linecolor": "white",
           "ticks": "",
           "title": {
            "standoff": 15
           },
           "zerolinecolor": "white",
           "zerolinewidth": 2
          },
          "yaxis": {
           "automargin": true,
           "gridcolor": "white",
           "linecolor": "white",
           "ticks": "",
           "title": {
            "standoff": 15
           },
           "zerolinecolor": "white",
           "zerolinewidth": 2
          }
         }
        },
        "title": {
         "text": "Relationship between number of rating and sale price"
        },
        "xaxis": {
         "anchor": "y",
         "domain": [
          0,
          1
         ],
         "title": {
          "text": "Number Of Ratings"
         }
        },
        "yaxis": {
         "anchor": "x",
         "domain": [
          0,
          1
         ],
         "title": {
          "text": "Sale Price"
         }
        }
       }
      }
     },
     "metadata": {},
     "output_type": "display_data"
    }
   ],
   "source": [
    "figure = px.scatter(data_frame=df,x=\"Number Of Ratings\", y=\"Sale Price\", size= \"Discount Percentage\", trendline=\"ols\", title=\"Relationship between number of rating and sale price\")\n",
    "figure.show()"
   ]
  },
  {
   "cell_type": "code",
   "execution_count": 20,
   "id": "19e3162d",
   "metadata": {},
   "outputs": [
    {
     "data": {
      "application/vnd.plotly.v1+json": {
       "config": {
        "plotlyServerURL": "https://plot.ly"
       },
       "data": [
        {
         "hovertemplate": "Number Of Ratings=%{x}<br>Discount Percentage=%{y}<br>Sale Price=%{marker.size}<extra></extra>",
         "legendgroup": "",
         "marker": {
          "color": "#636efa",
          "size": {
           "bdata": "7MIAAKRLAQCkSwEAyCwBAMgsAQDswgAA7MIAAMgsAQAsXwEAD6QAAD+cAAAPpAAAD6QAAA+kAAA8AwIAbMkBADwDAgBsyQEA9yQBAIzMAQBsyQEAjMwBADyGAQDHrwAAZCYCAFT/AQCE/QAARNgBAPzpAAB8KAEANLEBAFT/AQBE2AEAhP0AAIT9AAB8KAEAfCgBAETYAQD86QAARNgBAHwoAQBkJgIA9BQBAPQUAQB8KAEA/OkAADSxAQBE2AEAVP8BAFT/AQDX1gAA19YAAC91AAC3iAAAt4gAALeIAADX1gAAL3UAAJe3AACXtwAAl7cAAJe3AAA=",
           "dtype": "i4"
          },
          "sizemode": "area",
          "sizeref": 352.25,
          "symbol": "circle"
         },
         "mode": "markers",
         "name": "",
         "orientation": "v",
         "showlegend": false,
         "type": "scatter",
         "x": {
          "bdata": "Zw0AAGcNAABnDQAAwisAAMIrAABnDQAAZw0AAMIrAACuBQAAmDYBAJg2AQDeNgEAmDYBAJg2AQA2BAAANgQAADYEAAA2BAAAsBsAALAbAAA2BAAAsBsAAKkbAACldgEAHgIAAEQCAADkAgAAIQIAAOQCAAA1CAAAIQIAAEQCAABEAgAA2gIAANoCAAA1CAAANQgAAEQCAADkAgAARAIAACwIAAAhAgAANQgAACwIAAA1CAAA5AIAACECAABEAgAARAIAAEQCAAC7qgAAu6oAAD92AQCldgEAP3YBAKV2AQDOqQAApXYBAM6pAADOqQAAzqkAAM6pAAA=",
          "dtype": "i4"
         },
         "xaxis": "x",
         "y": {
          "bdata": "AAAAAAAAAAAAFBAUFBQAAAAAHQ8ADxESBgYNBg4KBwYGDQ0KCgYOBgoGCwsKDgcGBgYICBgWFhYIGA4ODg4=",
          "dtype": "i1"
         },
         "yaxis": "y"
        },
        {
         "hovertemplate": "<b>OLS trendline</b><br>Discount Percentage = 0.000154292 * Number Of Ratings + 6.49233<br>R<sup>2</sup>=0.468988<br><br>Number Of Ratings=%{x}<br>Discount Percentage=%{y} <b>(trend)</b><extra></extra>",
         "legendgroup": "",
         "marker": {
          "color": "#636efa",
          "symbol": "circle"
         },
         "mode": "lines",
         "name": "",
         "showlegend": false,
         "type": "scatter",
         "x": {
          "bdata": "HgIAACECAAAhAgAAIQIAACECAABEAgAARAIAAEQCAABEAgAARAIAAEQCAABEAgAARAIAANoCAADaAgAA5AIAAOQCAADkAgAA5AIAADYEAAA2BAAANgQAADYEAAA2BAAArgUAACwIAAAsCAAANQgAADUIAAA1CAAANQgAADUIAABnDQAAZw0AAGcNAABnDQAAZw0AAKkbAACwGwAAsBsAALAbAADCKwAAwisAAMIrAADOqQAAzqkAAM6pAADOqQAAzqkAALuqAAC7qgAAmDYBAJg2AQCYNgEAmDYBAN42AQA/dgEAP3YBAKV2AQCldgEApXYBAKV2AQA=",
          "dtype": "i4"
         },
         "xaxis": "x",
         "y": {
          "bdata": "GhEiv8ZNGkCFwS8WQE4aQIXBLxZAThpAhcEvFkBOGkCFwS8WQE4aQAwherjHUxpADCF6uMdTGkAMIXq4x1MaQAwherjHUxpADCF6uMdTGkAMIXq4x1MaQAwherjHUxpADCF6uMdTGkDhlSa5emsaQOGVJrl6axpAmoypMA9tGkCajKkwD20aQJqMqTAPbRpAmoypMA9tGkA2hlordqIaQDaGWit2ohpANoZaK3aiGkA2hlordqIaQDaGWit2ohpAw49jH97dGkAIc20bq0IbQAhzbRurQhtASISWIBdEG0BIhJYgF0QbQEiEliAXRBtASISWIBdEG0BIhJYgF0QbQFOyoDc5FhxAU7KgNzkWHEBTsqA3ORYcQFOyoDc5FhxAU7KgNzkWHEDnd1qd51YeQDW+z70CWB5ANb7PvQJYHkA1vs+9AlgeQHK3PDMAcSBAcrc8MwBxIEBytzwzAHEgQB/Y0AAXZipAH9jQABdmKkAf2NAAF2YqQB/Y0AAXZipAH9jQABdmKkCUkG3vz3gqQJSQbe/PeCpAbreDWajCMkBut4NZqMIyQG63g1mowjJAbreDWajCMkAy56gqbMUyQNwTiwdKRjVA3BOLB0pGNUBmb39rUUo1QGZvf2tRSjVAZm9/a1FKNUBmb39rUUo1QA==",
          "dtype": "f8"
         },
         "yaxis": "y"
        }
       ],
       "layout": {
        "legend": {
         "itemsizing": "constant",
         "tracegroupgap": 0
        },
        "template": {
         "data": {
          "bar": [
           {
            "error_x": {
             "color": "#2a3f5f"
            },
            "error_y": {
             "color": "#2a3f5f"
            },
            "marker": {
             "line": {
              "color": "#E5ECF6",
              "width": 0.5
             },
             "pattern": {
              "fillmode": "overlay",
              "size": 10,
              "solidity": 0.2
             }
            },
            "type": "bar"
           }
          ],
          "barpolar": [
           {
            "marker": {
             "line": {
              "color": "#E5ECF6",
              "width": 0.5
             },
             "pattern": {
              "fillmode": "overlay",
              "size": 10,
              "solidity": 0.2
             }
            },
            "type": "barpolar"
           }
          ],
          "carpet": [
           {
            "aaxis": {
             "endlinecolor": "#2a3f5f",
             "gridcolor": "white",
             "linecolor": "white",
             "minorgridcolor": "white",
             "startlinecolor": "#2a3f5f"
            },
            "baxis": {
             "endlinecolor": "#2a3f5f",
             "gridcolor": "white",
             "linecolor": "white",
             "minorgridcolor": "white",
             "startlinecolor": "#2a3f5f"
            },
            "type": "carpet"
           }
          ],
          "choropleth": [
           {
            "colorbar": {
             "outlinewidth": 0,
             "ticks": ""
            },
            "type": "choropleth"
           }
          ],
          "contour": [
           {
            "colorbar": {
             "outlinewidth": 0,
             "ticks": ""
            },
            "colorscale": [
             [
              0,
              "#0d0887"
             ],
             [
              0.1111111111111111,
              "#46039f"
             ],
             [
              0.2222222222222222,
              "#7201a8"
             ],
             [
              0.3333333333333333,
              "#9c179e"
             ],
             [
              0.4444444444444444,
              "#bd3786"
             ],
             [
              0.5555555555555556,
              "#d8576b"
             ],
             [
              0.6666666666666666,
              "#ed7953"
             ],
             [
              0.7777777777777778,
              "#fb9f3a"
             ],
             [
              0.8888888888888888,
              "#fdca26"
             ],
             [
              1,
              "#f0f921"
             ]
            ],
            "type": "contour"
           }
          ],
          "contourcarpet": [
           {
            "colorbar": {
             "outlinewidth": 0,
             "ticks": ""
            },
            "type": "contourcarpet"
           }
          ],
          "heatmap": [
           {
            "colorbar": {
             "outlinewidth": 0,
             "ticks": ""
            },
            "colorscale": [
             [
              0,
              "#0d0887"
             ],
             [
              0.1111111111111111,
              "#46039f"
             ],
             [
              0.2222222222222222,
              "#7201a8"
             ],
             [
              0.3333333333333333,
              "#9c179e"
             ],
             [
              0.4444444444444444,
              "#bd3786"
             ],
             [
              0.5555555555555556,
              "#d8576b"
             ],
             [
              0.6666666666666666,
              "#ed7953"
             ],
             [
              0.7777777777777778,
              "#fb9f3a"
             ],
             [
              0.8888888888888888,
              "#fdca26"
             ],
             [
              1,
              "#f0f921"
             ]
            ],
            "type": "heatmap"
           }
          ],
          "histogram": [
           {
            "marker": {
             "pattern": {
              "fillmode": "overlay",
              "size": 10,
              "solidity": 0.2
             }
            },
            "type": "histogram"
           }
          ],
          "histogram2d": [
           {
            "colorbar": {
             "outlinewidth": 0,
             "ticks": ""
            },
            "colorscale": [
             [
              0,
              "#0d0887"
             ],
             [
              0.1111111111111111,
              "#46039f"
             ],
             [
              0.2222222222222222,
              "#7201a8"
             ],
             [
              0.3333333333333333,
              "#9c179e"
             ],
             [
              0.4444444444444444,
              "#bd3786"
             ],
             [
              0.5555555555555556,
              "#d8576b"
             ],
             [
              0.6666666666666666,
              "#ed7953"
             ],
             [
              0.7777777777777778,
              "#fb9f3a"
             ],
             [
              0.8888888888888888,
              "#fdca26"
             ],
             [
              1,
              "#f0f921"
             ]
            ],
            "type": "histogram2d"
           }
          ],
          "histogram2dcontour": [
           {
            "colorbar": {
             "outlinewidth": 0,
             "ticks": ""
            },
            "colorscale": [
             [
              0,
              "#0d0887"
             ],
             [
              0.1111111111111111,
              "#46039f"
             ],
             [
              0.2222222222222222,
              "#7201a8"
             ],
             [
              0.3333333333333333,
              "#9c179e"
             ],
             [
              0.4444444444444444,
              "#bd3786"
             ],
             [
              0.5555555555555556,
              "#d8576b"
             ],
             [
              0.6666666666666666,
              "#ed7953"
             ],
             [
              0.7777777777777778,
              "#fb9f3a"
             ],
             [
              0.8888888888888888,
              "#fdca26"
             ],
             [
              1,
              "#f0f921"
             ]
            ],
            "type": "histogram2dcontour"
           }
          ],
          "mesh3d": [
           {
            "colorbar": {
             "outlinewidth": 0,
             "ticks": ""
            },
            "type": "mesh3d"
           }
          ],
          "parcoords": [
           {
            "line": {
             "colorbar": {
              "outlinewidth": 0,
              "ticks": ""
             }
            },
            "type": "parcoords"
           }
          ],
          "pie": [
           {
            "automargin": true,
            "type": "pie"
           }
          ],
          "scatter": [
           {
            "fillpattern": {
             "fillmode": "overlay",
             "size": 10,
             "solidity": 0.2
            },
            "type": "scatter"
           }
          ],
          "scatter3d": [
           {
            "line": {
             "colorbar": {
              "outlinewidth": 0,
              "ticks": ""
             }
            },
            "marker": {
             "colorbar": {
              "outlinewidth": 0,
              "ticks": ""
             }
            },
            "type": "scatter3d"
           }
          ],
          "scattercarpet": [
           {
            "marker": {
             "colorbar": {
              "outlinewidth": 0,
              "ticks": ""
             }
            },
            "type": "scattercarpet"
           }
          ],
          "scattergeo": [
           {
            "marker": {
             "colorbar": {
              "outlinewidth": 0,
              "ticks": ""
             }
            },
            "type": "scattergeo"
           }
          ],
          "scattergl": [
           {
            "marker": {
             "colorbar": {
              "outlinewidth": 0,
              "ticks": ""
             }
            },
            "type": "scattergl"
           }
          ],
          "scattermap": [
           {
            "marker": {
             "colorbar": {
              "outlinewidth": 0,
              "ticks": ""
             }
            },
            "type": "scattermap"
           }
          ],
          "scattermapbox": [
           {
            "marker": {
             "colorbar": {
              "outlinewidth": 0,
              "ticks": ""
             }
            },
            "type": "scattermapbox"
           }
          ],
          "scatterpolar": [
           {
            "marker": {
             "colorbar": {
              "outlinewidth": 0,
              "ticks": ""
             }
            },
            "type": "scatterpolar"
           }
          ],
          "scatterpolargl": [
           {
            "marker": {
             "colorbar": {
              "outlinewidth": 0,
              "ticks": ""
             }
            },
            "type": "scatterpolargl"
           }
          ],
          "scatterternary": [
           {
            "marker": {
             "colorbar": {
              "outlinewidth": 0,
              "ticks": ""
             }
            },
            "type": "scatterternary"
           }
          ],
          "surface": [
           {
            "colorbar": {
             "outlinewidth": 0,
             "ticks": ""
            },
            "colorscale": [
             [
              0,
              "#0d0887"
             ],
             [
              0.1111111111111111,
              "#46039f"
             ],
             [
              0.2222222222222222,
              "#7201a8"
             ],
             [
              0.3333333333333333,
              "#9c179e"
             ],
             [
              0.4444444444444444,
              "#bd3786"
             ],
             [
              0.5555555555555556,
              "#d8576b"
             ],
             [
              0.6666666666666666,
              "#ed7953"
             ],
             [
              0.7777777777777778,
              "#fb9f3a"
             ],
             [
              0.8888888888888888,
              "#fdca26"
             ],
             [
              1,
              "#f0f921"
             ]
            ],
            "type": "surface"
           }
          ],
          "table": [
           {
            "cells": {
             "fill": {
              "color": "#EBF0F8"
             },
             "line": {
              "color": "white"
             }
            },
            "header": {
             "fill": {
              "color": "#C8D4E3"
             },
             "line": {
              "color": "white"
             }
            },
            "type": "table"
           }
          ]
         },
         "layout": {
          "annotationdefaults": {
           "arrowcolor": "#2a3f5f",
           "arrowhead": 0,
           "arrowwidth": 1
          },
          "autotypenumbers": "strict",
          "coloraxis": {
           "colorbar": {
            "outlinewidth": 0,
            "ticks": ""
           }
          },
          "colorscale": {
           "diverging": [
            [
             0,
             "#8e0152"
            ],
            [
             0.1,
             "#c51b7d"
            ],
            [
             0.2,
             "#de77ae"
            ],
            [
             0.3,
             "#f1b6da"
            ],
            [
             0.4,
             "#fde0ef"
            ],
            [
             0.5,
             "#f7f7f7"
            ],
            [
             0.6,
             "#e6f5d0"
            ],
            [
             0.7,
             "#b8e186"
            ],
            [
             0.8,
             "#7fbc41"
            ],
            [
             0.9,
             "#4d9221"
            ],
            [
             1,
             "#276419"
            ]
           ],
           "sequential": [
            [
             0,
             "#0d0887"
            ],
            [
             0.1111111111111111,
             "#46039f"
            ],
            [
             0.2222222222222222,
             "#7201a8"
            ],
            [
             0.3333333333333333,
             "#9c179e"
            ],
            [
             0.4444444444444444,
             "#bd3786"
            ],
            [
             0.5555555555555556,
             "#d8576b"
            ],
            [
             0.6666666666666666,
             "#ed7953"
            ],
            [
             0.7777777777777778,
             "#fb9f3a"
            ],
            [
             0.8888888888888888,
             "#fdca26"
            ],
            [
             1,
             "#f0f921"
            ]
           ],
           "sequentialminus": [
            [
             0,
             "#0d0887"
            ],
            [
             0.1111111111111111,
             "#46039f"
            ],
            [
             0.2222222222222222,
             "#7201a8"
            ],
            [
             0.3333333333333333,
             "#9c179e"
            ],
            [
             0.4444444444444444,
             "#bd3786"
            ],
            [
             0.5555555555555556,
             "#d8576b"
            ],
            [
             0.6666666666666666,
             "#ed7953"
            ],
            [
             0.7777777777777778,
             "#fb9f3a"
            ],
            [
             0.8888888888888888,
             "#fdca26"
            ],
            [
             1,
             "#f0f921"
            ]
           ]
          },
          "colorway": [
           "#636efa",
           "#EF553B",
           "#00cc96",
           "#ab63fa",
           "#FFA15A",
           "#19d3f3",
           "#FF6692",
           "#B6E880",
           "#FF97FF",
           "#FECB52"
          ],
          "font": {
           "color": "#2a3f5f"
          },
          "geo": {
           "bgcolor": "white",
           "lakecolor": "white",
           "landcolor": "#E5ECF6",
           "showlakes": true,
           "showland": true,
           "subunitcolor": "white"
          },
          "hoverlabel": {
           "align": "left"
          },
          "hovermode": "closest",
          "mapbox": {
           "style": "light"
          },
          "paper_bgcolor": "white",
          "plot_bgcolor": "#E5ECF6",
          "polar": {
           "angularaxis": {
            "gridcolor": "white",
            "linecolor": "white",
            "ticks": ""
           },
           "bgcolor": "#E5ECF6",
           "radialaxis": {
            "gridcolor": "white",
            "linecolor": "white",
            "ticks": ""
           }
          },
          "scene": {
           "xaxis": {
            "backgroundcolor": "#E5ECF6",
            "gridcolor": "white",
            "gridwidth": 2,
            "linecolor": "white",
            "showbackground": true,
            "ticks": "",
            "zerolinecolor": "white"
           },
           "yaxis": {
            "backgroundcolor": "#E5ECF6",
            "gridcolor": "white",
            "gridwidth": 2,
            "linecolor": "white",
            "showbackground": true,
            "ticks": "",
            "zerolinecolor": "white"
           },
           "zaxis": {
            "backgroundcolor": "#E5ECF6",
            "gridcolor": "white",
            "gridwidth": 2,
            "linecolor": "white",
            "showbackground": true,
            "ticks": "",
            "zerolinecolor": "white"
           }
          },
          "shapedefaults": {
           "line": {
            "color": "#2a3f5f"
           }
          },
          "ternary": {
           "aaxis": {
            "gridcolor": "white",
            "linecolor": "white",
            "ticks": ""
           },
           "baxis": {
            "gridcolor": "white",
            "linecolor": "white",
            "ticks": ""
           },
           "bgcolor": "#E5ECF6",
           "caxis": {
            "gridcolor": "white",
            "linecolor": "white",
            "ticks": ""
           }
          },
          "title": {
           "x": 0.05
          },
          "xaxis": {
           "automargin": true,
           "gridcolor": "white",
           "linecolor": "white",
           "ticks": "",
           "title": {
            "standoff": 15
           },
           "zerolinecolor": "white",
           "zerolinewidth": 2
          },
          "yaxis": {
           "automargin": true,
           "gridcolor": "white",
           "linecolor": "white",
           "ticks": "",
           "title": {
            "standoff": 15
           },
           "zerolinecolor": "white",
           "zerolinewidth": 2
          }
         }
        },
        "title": {
         "text": "Relationship between discount percentage and number of rating"
        },
        "xaxis": {
         "anchor": "y",
         "domain": [
          0,
          1
         ],
         "title": {
          "text": "Number Of Ratings"
         }
        },
        "yaxis": {
         "anchor": "x",
         "domain": [
          0,
          1
         ],
         "title": {
          "text": "Discount Percentage"
         }
        }
       }
      }
     },
     "metadata": {},
     "output_type": "display_data"
    }
   ],
   "source": [
    "figure=px.scatter(data_frame=df,x=\"Number Of Ratings\", y=\"Discount Percentage\", size=\"Sale Price\", trendline=\"ols\", title=\"Relationship between discount percentage and number of rating\")\n",
    "figure.show()"
   ]
  },
  {
   "cell_type": "code",
   "execution_count": null,
   "id": "cccb273a",
   "metadata": {},
   "outputs": [],
   "source": []
  }
 ],
 "metadata": {
  "kernelspec": {
   "display_name": ".venv (3.12.11)",
   "language": "python",
   "name": "python3"
  },
  "language_info": {
   "codemirror_mode": {
    "name": "ipython",
    "version": 3
   },
   "file_extension": ".py",
   "mimetype": "text/x-python",
   "name": "python",
   "nbconvert_exporter": "python",
   "pygments_lexer": "ipython3",
   "version": "3.12.11"
  }
 },
 "nbformat": 4,
 "nbformat_minor": 5
}
